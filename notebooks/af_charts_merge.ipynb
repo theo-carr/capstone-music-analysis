{
 "cells": [
  {
   "attachments": {},
   "cell_type": "markdown",
   "metadata": {},
   "source": [
    "# Merge Final Versions of charts and audiofeatures dataframes"
   ]
  },
  {
   "cell_type": "code",
   "execution_count": 1,
   "metadata": {},
   "outputs": [],
   "source": [
    "import pandas as pd"
   ]
  },
  {
   "cell_type": "code",
   "execution_count": 2,
   "metadata": {},
   "outputs": [],
   "source": [
    "charts = pd.read_csv('../data/all_charts.csv')\n",
    "af = pd.read_csv('../data/all_audiofeatures.csv')"
   ]
  },
  {
   "cell_type": "code",
   "execution_count": 6,
   "metadata": {},
   "outputs": [],
   "source": [
    "charts = charts.drop_duplicates(subset=['song','artist'])\n",
    "charts.to_csv('../data/all_charts_nondup.csv',index=False)"
   ]
  },
  {
   "cell_type": "code",
   "execution_count": 7,
   "metadata": {},
   "outputs": [],
   "source": [
    "combined = pd.merge(charts, af, how='inner', left_on='track_id', right_on='id')"
   ]
  },
  {
   "cell_type": "code",
   "execution_count": 9,
   "metadata": {},
   "outputs": [
    {
     "data": {
      "text/plain": [
       "(6447, 29)"
      ]
     },
     "execution_count": 9,
     "metadata": {},
     "output_type": "execute_result"
    }
   ],
   "source": [
    "combined.shape"
   ]
  },
  {
   "cell_type": "code",
   "execution_count": 10,
   "metadata": {},
   "outputs": [],
   "source": [
    "combined.drop_duplicates(subset=['song','artist'], inplace=True)"
   ]
  },
  {
   "cell_type": "code",
   "execution_count": 12,
   "metadata": {},
   "outputs": [],
   "source": [
    "combined.reset_index(drop=True, inplace=True)"
   ]
  },
  {
   "cell_type": "code",
   "execution_count": 17,
   "metadata": {},
   "outputs": [],
   "source": [
    "combined.to_csv('../data/af_charts_combined.csv',index=False)"
   ]
  },
  {
   "cell_type": "code",
   "execution_count": 18,
   "metadata": {},
   "outputs": [
    {
     "name": "stdout",
     "output_type": "stream",
     "text": [
      "1960\n",
      "2005\n",
      "1987\n",
      "1988\n",
      "2016\n",
      "2019\n",
      "2013\n",
      "2021\n",
      "2007\n",
      "2012\n",
      "2020\n",
      "1989\n",
      "1961\n",
      "1973\n",
      "1994\n",
      "2000\n",
      "1969\n",
      "1979\n",
      "1968\n",
      "1971\n",
      "1990\n",
      "1996\n",
      "1962\n",
      "1966\n",
      "2008\n",
      "1986\n",
      "1991\n",
      "1963\n",
      "2010\n",
      "1964\n",
      "1995\n",
      "2011\n",
      "1978\n",
      "1980\n",
      "2015\n",
      "2001\n",
      "2009\n",
      "2017\n",
      "1974\n",
      "1985\n",
      "1965\n",
      "2014\n",
      "2018\n",
      "2003\n",
      "1972\n",
      "1976\n",
      "1997\n",
      "1975\n",
      "1992\n",
      "2002\n",
      "1967\n",
      "1998\n",
      "1977\n",
      "1983\n",
      "1970\n",
      "2006\n",
      "1999\n",
      "2004\n",
      "1982\n",
      "1993\n",
      "1981\n",
      "1984\n"
     ]
    }
   ],
   "source": [
    "for x in combined.release_year.unique():\n",
    "    print(x)"
   ]
  },
  {
   "cell_type": "code",
   "execution_count": null,
   "metadata": {},
   "outputs": [],
   "source": []
  }
 ],
 "metadata": {
  "kernelspec": {
   "display_name": "base",
   "language": "python",
   "name": "python3"
  },
  "language_info": {
   "codemirror_mode": {
    "name": "ipython",
    "version": 3
   },
   "file_extension": ".py",
   "mimetype": "text/x-python",
   "name": "python",
   "nbconvert_exporter": "python",
   "pygments_lexer": "ipython3",
   "version": "3.9.13"
  },
  "orig_nbformat": 4,
  "vscode": {
   "interpreter": {
    "hash": "1b41b4c7cc3ca841c4d30f71a98170caa2e8e10c1e3668c41155b172942dc828"
   }
  }
 },
 "nbformat": 4,
 "nbformat_minor": 2
}
