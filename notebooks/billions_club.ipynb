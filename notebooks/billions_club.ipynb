{
 "cells": [
  {
   "cell_type": "code",
   "execution_count": null,
   "metadata": {},
   "outputs": [],
   "source": [
    "import sys\n",
    "import os\n",
    "sys.path.append('..')"
   ]
  },
  {
   "cell_type": "code",
   "execution_count": null,
   "metadata": {},
   "outputs": [],
   "source": [
    "import pandas as pd\n",
    "import spotifyAPI as spot"
   ]
  },
  {
   "cell_type": "code",
   "execution_count": null,
   "metadata": {},
   "outputs": [],
   "source": [
    "billions_club = spot.get_playlist_tracks(\"37i9dQZF1DX7iB3RCnBnN4\")"
   ]
  },
  {
   "cell_type": "code",
   "execution_count": null,
   "metadata": {},
   "outputs": [],
   "source": [
    "billions_club = billions_club.get('items')"
   ]
  },
  {
   "cell_type": "code",
   "execution_count": null,
   "metadata": {},
   "outputs": [],
   "source": [
    "ids,artists,albums,release_dates = [],[],[],[]\n",
    "\n",
    "for track in billions_club:\n",
    "    track_id = track.get('track').get('id')\n",
    "    ids.append(track_id)\n",
    "    artist = track.get('track').get('album').get('artists')[0].get('name')\n",
    "    artists.append(artist)\n",
    "    album = track.get('track').get('album').get('name')\n",
    "    albums.append(album)\n",
    "    release_year = track.get('track').get('album').get('release_date')\n",
    "    release_dates.append(release_year)\n",
    "\n",
    "billions_club_df = pd.DataFrame({'id' : ids, 'album': albums, 'artist': artists, 'release_date': release_dates})\n",
    "    "
   ]
  },
  {
   "cell_type": "code",
   "execution_count": null,
   "metadata": {},
   "outputs": [],
   "source": [
    "billions_club_df"
   ]
  },
  {
   "cell_type": "code",
   "execution_count": null,
   "metadata": {},
   "outputs": [],
   "source": [
    "import data_collection_functions as dcf"
   ]
  },
  {
   "cell_type": "code",
   "execution_count": null,
   "metadata": {},
   "outputs": [],
   "source": [
    "billions_club_af = dcf.create_audiofeatures_df(billions_club_df.id)"
   ]
  },
  {
   "cell_type": "code",
   "execution_count": null,
   "metadata": {},
   "outputs": [],
   "source": [
    "billions_club_af.to_csv('../data/billions_complete_first100.csv', index=False)"
   ]
  },
  {
   "cell_type": "code",
   "execution_count": null,
   "metadata": {},
   "outputs": [],
   "source": [
    "# refresh spotify import "
   ]
  },
  {
   "cell_type": "code",
   "execution_count": null,
   "metadata": {},
   "outputs": [],
   "source": [
    "next_100 = spot.get_playlist_tracks(\"37i9dQZF1DX7iB3RCnBnN4\",offset=300)"
   ]
  },
  {
   "cell_type": "code",
   "execution_count": null,
   "metadata": {},
   "outputs": [],
   "source": [
    "fourth_100 = next_100.get('items')"
   ]
  },
  {
   "cell_type": "code",
   "execution_count": null,
   "metadata": {},
   "outputs": [],
   "source": [
    "ids,artists,albums,release_dates = [],[],[],[]\n",
    "\n",
    "for track in fourth_100:\n",
    "    track_id = track.get('track').get('id')\n",
    "    ids.append(track_id)\n",
    "    artist = track.get('track').get('album').get('artists')[0].get('name')\n",
    "    artists.append(artist)\n",
    "    album = track.get('track').get('album').get('name')\n",
    "    albums.append(album)\n",
    "    release_year = track.get('track').get('album').get('release_date')\n",
    "    release_dates.append(release_year)\n",
    "\n",
    "fourth_100_df = pd.DataFrame({'id' : ids, 'album': albums, 'artist': artists, 'release_date': release_dates})"
   ]
  },
  {
   "cell_type": "code",
   "execution_count": null,
   "metadata": {},
   "outputs": [],
   "source": [
    "second_100_df"
   ]
  },
  {
   "cell_type": "code",
   "execution_count": null,
   "metadata": {},
   "outputs": [],
   "source": [
    "third_100_df"
   ]
  },
  {
   "cell_type": "code",
   "execution_count": null,
   "metadata": {},
   "outputs": [],
   "source": [
    "fourth_100_df"
   ]
  },
  {
   "cell_type": "code",
   "execution_count": null,
   "metadata": {},
   "outputs": [],
   "source": [
    "therest = pd.concat([second_100_df, third_100_df, fourth_100_df])"
   ]
  },
  {
   "cell_type": "code",
   "execution_count": null,
   "metadata": {},
   "outputs": [],
   "source": [
    "therest"
   ]
  },
  {
   "cell_type": "code",
   "execution_count": null,
   "metadata": {},
   "outputs": [],
   "source": [
    "therest_af = dcf.create_audiofeatures_df(therest.id)"
   ]
  },
  {
   "cell_type": "code",
   "execution_count": null,
   "metadata": {},
   "outputs": [],
   "source": [
    "therest.to_csv('../data/billions_club_2.csv', index=False)\n",
    "therest_af.to_csv('../data/therest_billions_af.csv', index=False)"
   ]
  },
  {
   "cell_type": "code",
   "execution_count": null,
   "metadata": {},
   "outputs": [],
   "source": [
    "# going to have 4 frames, first 100 no af, first 100 af, and rest no af, and rest with af, need to merge and concat\n",
    "\n",
    "#take a chance to pull in genres too "
   ]
  },
  {
   "cell_type": "code",
   "execution_count": null,
   "metadata": {},
   "outputs": [],
   "source": [
    "therest"
   ]
  },
  {
   "cell_type": "code",
   "execution_count": null,
   "metadata": {},
   "outputs": [],
   "source": [
    "billions_club_df"
   ]
  },
  {
   "cell_type": "code",
   "execution_count": null,
   "metadata": {},
   "outputs": [],
   "source": [
    "first = pd.read_csv('../data/billions_complete_first100.csv')"
   ]
  },
  {
   "cell_type": "code",
   "execution_count": null,
   "metadata": {},
   "outputs": [],
   "source": [
    "first"
   ]
  },
  {
   "cell_type": "code",
   "execution_count": null,
   "metadata": {},
   "outputs": [],
   "source": [
    "first_noaf = spot.get_playlist_tracks(\"37i9dQZF1DX7iB3RCnBnN4\", offset=0)"
   ]
  },
  {
   "cell_type": "code",
   "execution_count": null,
   "metadata": {},
   "outputs": [],
   "source": [
    "first_noaf = first_noaf.get('items')"
   ]
  },
  {
   "cell_type": "code",
   "execution_count": null,
   "metadata": {},
   "outputs": [],
   "source": [
    "ids,artists,albums,release_dates = [],[],[],[]\n",
    "\n",
    "for track in first_noaf:\n",
    "    track_id = track.get('track').get('id')\n",
    "    ids.append(track_id)\n",
    "    artist = track.get('track').get('album').get('artists')[0].get('name')\n",
    "    artists.append(artist)\n",
    "    album = track.get('track').get('album').get('name')\n",
    "    albums.append(album)\n",
    "    release_year = track.get('track').get('album').get('release_date')\n",
    "    release_dates.append(release_year)\n",
    "\n",
    "first_noaf_df = pd.DataFrame({'id' : ids, 'album': albums, 'artist': artists, 'release_date': release_dates})"
   ]
  },
  {
   "cell_type": "code",
   "execution_count": null,
   "metadata": {},
   "outputs": [],
   "source": [
    "first_noaf_df"
   ]
  },
  {
   "cell_type": "code",
   "execution_count": null,
   "metadata": {},
   "outputs": [],
   "source": [
    "combined=  pd.concat([first_noaf_df, therest])"
   ]
  },
  {
   "cell_type": "code",
   "execution_count": null,
   "metadata": {},
   "outputs": [],
   "source": [
    "combined"
   ]
  },
  {
   "cell_type": "code",
   "execution_count": null,
   "metadata": {},
   "outputs": [],
   "source": [
    "af_combined = pd.concat(\n",
    "    [first,therest_af ]\n",
    ")"
   ]
  },
  {
   "cell_type": "code",
   "execution_count": null,
   "metadata": {},
   "outputs": [],
   "source": [
    "af_combined"
   ]
  },
  {
   "cell_type": "code",
   "execution_count": null,
   "metadata": {},
   "outputs": [],
   "source": [
    "all_merged = pd.merge(combined, af_combined, how='inner', on='id')"
   ]
  },
  {
   "cell_type": "code",
   "execution_count": null,
   "metadata": {},
   "outputs": [],
   "source": [
    "all_merged.to_csv('../data/billions_club.csv', index=False)"
   ]
  },
  {
   "attachments": {},
   "cell_type": "markdown",
   "metadata": {},
   "source": [
    "FORGOT TO ADD THE SONG NAMES!!!!!!!!"
   ]
  },
  {
   "cell_type": "code",
   "execution_count": null,
   "metadata": {},
   "outputs": [],
   "source": [
    "#make a big list of names to add as a column"
   ]
  },
  {
   "cell_type": "code",
   "execution_count": null,
   "metadata": {},
   "outputs": [],
   "source": [
    "offsets = [0, 100, 200, 300]\n",
    "names = []\n",
    "for off in offsets:\n",
    "    curr_dict = spot.get_playlist_tracks(\"37i9dQZF1DX7iB3RCnBnN4\", offset=off)\n",
    "    curr_tracks = curr_dict.get('items')\n",
    "\n",
    "    for track in curr_tracks:\n",
    "        name = track.get('track').get('name')\n",
    "        print(name)\n",
    "        names.append(name)\n"
   ]
  },
  {
   "cell_type": "code",
   "execution_count": null,
   "metadata": {},
   "outputs": [],
   "source": [
    "names"
   ]
  },
  {
   "cell_type": "code",
   "execution_count": null,
   "metadata": {},
   "outputs": [],
   "source": [
    "curr_billions_club = pd.read_csv('../data/billions_club.csv')"
   ]
  },
  {
   "cell_type": "code",
   "execution_count": null,
   "metadata": {},
   "outputs": [],
   "source": [
    "curr_billions_club.head()"
   ]
  },
  {
   "cell_type": "code",
   "execution_count": null,
   "metadata": {},
   "outputs": [],
   "source": [
    "curr_billions_club['song'] = names"
   ]
  },
  {
   "cell_type": "code",
   "execution_count": null,
   "metadata": {},
   "outputs": [],
   "source": [
    "curr_billions_club"
   ]
  },
  {
   "cell_type": "code",
   "execution_count": null,
   "metadata": {},
   "outputs": [],
   "source": [
    "curr_billions_club.tail()"
   ]
  },
  {
   "cell_type": "code",
   "execution_count": null,
   "metadata": {},
   "outputs": [],
   "source": [
    "curr_billions_club.to_csv('../data/billions_club.csv', index=False)"
   ]
  }
 ],
 "metadata": {
  "kernelspec": {
   "display_name": "base",
   "language": "python",
   "name": "python3"
  },
  "language_info": {
   "codemirror_mode": {
    "name": "ipython",
    "version": 3
   },
   "file_extension": ".py",
   "mimetype": "text/x-python",
   "name": "python",
   "nbconvert_exporter": "python",
   "pygments_lexer": "ipython3",
   "version": "3.9.13 (main, Aug 25 2022, 23:51:50) [MSC v.1916 64 bit (AMD64)]"
  },
  "orig_nbformat": 4,
  "vscode": {
   "interpreter": {
    "hash": "1b41b4c7cc3ca841c4d30f71a98170caa2e8e10c1e3668c41155b172942dc828"
   }
  }
 },
 "nbformat": 4,
 "nbformat_minor": 2
}
