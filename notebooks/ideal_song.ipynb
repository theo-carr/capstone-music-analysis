{
 "cells": [
  {
   "cell_type": "code",
   "execution_count": 1,
   "metadata": {},
   "outputs": [],
   "source": [
    "import sys\n",
    "import os\n",
    "sys.path.append('..')"
   ]
  },
  {
   "cell_type": "code",
   "execution_count": 2,
   "metadata": {},
   "outputs": [],
   "source": [
    "import spotifyAPI as spot"
   ]
  },
  {
   "cell_type": "code",
   "execution_count": 3,
   "metadata": {},
   "outputs": [],
   "source": [
    "import pandas as pd"
   ]
  },
  {
   "attachments": {},
   "cell_type": "markdown",
   "metadata": {},
   "source": [
    "# collect ideal song for each year , starting with 2021"
   ]
  },
  {
   "attachments": {},
   "cell_type": "markdown",
   "metadata": {},
   "source": [
    "## First a Test"
   ]
  },
  {
   "cell_type": "code",
   "execution_count": 5,
   "metadata": {},
   "outputs": [],
   "source": [
    "test = spot.find_average_song()"
   ]
  },
  {
   "cell_type": "code",
   "execution_count": 6,
   "metadata": {},
   "outputs": [
    {
     "data": {
      "text/plain": [
       "{'tracks': [{'album': {'album_type': 'ALBUM',\n",
       "    'artists': [{'external_urls': {'spotify': 'https://open.spotify.com/artist/22bE4uQ6baNwSHPVcDxLCe'},\n",
       "      'href': 'https://api.spotify.com/v1/artists/22bE4uQ6baNwSHPVcDxLCe',\n",
       "      'id': '22bE4uQ6baNwSHPVcDxLCe',\n",
       "      'name': 'The Rolling Stones',\n",
       "      'type': 'artist',\n",
       "      'uri': 'spotify:artist:22bE4uQ6baNwSHPVcDxLCe'}],\n",
       "    'external_urls': {'spotify': 'https://open.spotify.com/album/6OHri5qNxwCdVSdyCslspd'},\n",
       "    'href': 'https://api.spotify.com/v1/albums/6OHri5qNxwCdVSdyCslspd',\n",
       "    'id': '6OHri5qNxwCdVSdyCslspd',\n",
       "    'images': [{'height': 640,\n",
       "      'url': 'https://i.scdn.co/image/ab67616d0000b27344934a06d21864415376f5f2',\n",
       "      'width': 640},\n",
       "     {'height': 300,\n",
       "      'url': 'https://i.scdn.co/image/ab67616d00001e0244934a06d21864415376f5f2',\n",
       "      'width': 300},\n",
       "     {'height': 64,\n",
       "      'url': 'https://i.scdn.co/image/ab67616d0000485144934a06d21864415376f5f2',\n",
       "      'width': 64}],\n",
       "    'name': 'Beggars Banquet (50th Anniversary Edition)',\n",
       "    'release_date': '1968-12-06',\n",
       "    'release_date_precision': 'day',\n",
       "    'total_tracks': 10,\n",
       "    'type': 'album',\n",
       "    'uri': 'spotify:album:6OHri5qNxwCdVSdyCslspd'},\n",
       "   'artists': [{'external_urls': {'spotify': 'https://open.spotify.com/artist/22bE4uQ6baNwSHPVcDxLCe'},\n",
       "     'href': 'https://api.spotify.com/v1/artists/22bE4uQ6baNwSHPVcDxLCe',\n",
       "     'id': '22bE4uQ6baNwSHPVcDxLCe',\n",
       "     'name': 'The Rolling Stones',\n",
       "     'type': 'artist',\n",
       "     'uri': 'spotify:artist:22bE4uQ6baNwSHPVcDxLCe'}],\n",
       "   'disc_number': 1,\n",
       "   'duration_ms': 378146,\n",
       "   'explicit': False,\n",
       "   'external_ids': {'isrc': 'USA171810010'},\n",
       "   'external_urls': {'spotify': 'https://open.spotify.com/track/1Ud6moTC0KyXMq1Oxfien0'},\n",
       "   'href': 'https://api.spotify.com/v1/tracks/1Ud6moTC0KyXMq1Oxfien0',\n",
       "   'id': '1Ud6moTC0KyXMq1Oxfien0',\n",
       "   'is_local': False,\n",
       "   'is_playable': True,\n",
       "   'name': 'Sympathy For The Devil - 50th Anniversary Edition',\n",
       "   'popularity': 73,\n",
       "   'preview_url': None,\n",
       "   'track_number': 1,\n",
       "   'type': 'track',\n",
       "   'uri': 'spotify:track:1Ud6moTC0KyXMq1Oxfien0'}],\n",
       " 'seeds': [{'initialPoolSize': 620,\n",
       "   'afterFilteringSize': 380,\n",
       "   'afterRelinkingSize': 620,\n",
       "   'id': '7ouMYWpwJ422jRcDASZB7P',\n",
       "   'type': 'TRACK',\n",
       "   'href': 'https://api.spotify.com/v1/tracks/7ouMYWpwJ422jRcDASZB7P'},\n",
       "  {'initialPoolSize': 642,\n",
       "   'afterFilteringSize': 357,\n",
       "   'afterRelinkingSize': 642,\n",
       "   'id': '4VqPOruhp5EdPBeR92t6lQ',\n",
       "   'type': 'TRACK',\n",
       "   'href': 'https://api.spotify.com/v1/tracks/4VqPOruhp5EdPBeR92t6lQ'}]}"
      ]
     },
     "execution_count": 6,
     "metadata": {},
     "output_type": "execute_result"
    }
   ],
   "source": [
    "test"
   ]
  },
  {
   "attachments": {},
   "cell_type": "markdown",
   "metadata": {},
   "source": [
    "# now for 2021"
   ]
  },
  {
   "cell_type": "code",
   "execution_count": 20,
   "metadata": {},
   "outputs": [],
   "source": [
    "import random"
   ]
  },
  {
   "cell_type": "code",
   "execution_count": 7,
   "metadata": {},
   "outputs": [],
   "source": [
    "main = pd.read_csv('../data/af_charts_combined.csv')"
   ]
  },
  {
   "cell_type": "code",
   "execution_count": 15,
   "metadata": {},
   "outputs": [],
   "source": [
    "songs_2021 = main.copy().loc[main.release_year == 2021]"
   ]
  },
  {
   "cell_type": "code",
   "execution_count": 17,
   "metadata": {},
   "outputs": [],
   "source": [
    "songs_2021.reset_index(drop=True, inplace=True)"
   ]
  },
  {
   "cell_type": "code",
   "execution_count": 24,
   "metadata": {},
   "outputs": [
    {
     "data": {
      "text/plain": [
       "'51Grh1RyUDcMBbpuyUIUHI,0mBP9X2gPCuapvpZ7TGDk3,37Nqx7iavZpotJSDXZWbJ3,4XvcHTUfIlWfyJTRG0aqlo,2JPLbjOn0wPCngEot2STUS'"
      ]
     },
     "execution_count": 24,
     "metadata": {},
     "output_type": "execute_result"
    }
   ],
   "source": [
    "#create seed songs\n",
    "seed_songs = []\n",
    "for x in range(5):\n",
    "    seed_songs.append(songs_2021.loc[random.randint(0,len(songs_2021)-1)].track_id)\n",
    "seed_string = \"\"\n",
    "for index, seed in enumerate(seed_songs):\n",
    "    if index == 0:\n",
    "        seed_string += seed\n",
    "    else:\n",
    "        seed_string += \",\" + seed\n",
    "seed_string"
   ]
  },
  {
   "cell_type": "code",
   "execution_count": 32,
   "metadata": {},
   "outputs": [
    {
     "name": "stderr",
     "output_type": "stream",
     "text": [
      "C:\\Users\\theoc\\AppData\\Local\\Temp\\ipykernel_12376\\1472421314.py:2: FutureWarning: Dropping of nuisance columns in DataFrame reductions (with 'numeric_only=None') is deprecated; in a future version this will raise TypeError.  Select only valid columns before calling the reduction.\n",
      "  means = songs_2021.mean()\n"
     ]
    }
   ],
   "source": [
    "# find averages for all the stats\n",
    "means = songs_2021.mean()\n",
    "##############################\n",
    "acousticness = means.acousticness\n",
    "danceability = means.danceability\n",
    "energy = means.energy\n",
    "instrumentalness = means.instrumentalness\n",
    "liveness = means.liveness\n",
    "speechiness = means.speechiness\n",
    "valence = means.valence\n",
    "##############################\n"
   ]
  },
  {
   "attachments": {},
   "cell_type": "markdown",
   "metadata": {},
   "source": [
    "call the find average function from spotify module"
   ]
  },
  {
   "cell_type": "code",
   "execution_count": 33,
   "metadata": {},
   "outputs": [],
   "source": [
    "average_2021 = spot.find_average_song(\n",
    "    seed_tracks=seed_string,\n",
    "    acousticness=acousticness,\n",
    "    danceability=danceability,\n",
    "    energy=energy,\n",
    "    instrumentalness=instrumentalness,\n",
    "    liveness=liveness,\n",
    "    speechiness=speechiness,\n",
    "    valence=valence\n",
    ")"
   ]
  },
  {
   "cell_type": "code",
   "execution_count": 34,
   "metadata": {},
   "outputs": [
    {
     "data": {
      "text/plain": [
       "{'tracks': [{'album': {'album_type': 'SINGLE',\n",
       "    'artists': [{'external_urls': {'spotify': 'https://open.spotify.com/artist/6VuMaDnrHyPL1p4EHjYLi7'},\n",
       "      'href': 'https://api.spotify.com/v1/artists/6VuMaDnrHyPL1p4EHjYLi7',\n",
       "      'id': '6VuMaDnrHyPL1p4EHjYLi7',\n",
       "      'name': 'Charlie Puth',\n",
       "      'type': 'artist',\n",
       "      'uri': 'spotify:artist:6VuMaDnrHyPL1p4EHjYLi7'},\n",
       "     {'external_urls': {'spotify': 'https://open.spotify.com/artist/2cFrymmkijnjDg9SS92EPM'},\n",
       "      'href': 'https://api.spotify.com/v1/artists/2cFrymmkijnjDg9SS92EPM',\n",
       "      'id': '2cFrymmkijnjDg9SS92EPM',\n",
       "      'name': 'blackbear',\n",
       "      'type': 'artist',\n",
       "      'uri': 'spotify:artist:2cFrymmkijnjDg9SS92EPM'}],\n",
       "    'external_urls': {'spotify': 'https://open.spotify.com/album/174SAjvfg1fkglW2S9vYkw'},\n",
       "    'href': 'https://api.spotify.com/v1/albums/174SAjvfg1fkglW2S9vYkw',\n",
       "    'id': '174SAjvfg1fkglW2S9vYkw',\n",
       "    'images': [{'height': 640,\n",
       "      'url': 'https://i.scdn.co/image/ab67616d0000b273449ab72ccb2a2211e1e54c65',\n",
       "      'width': 640},\n",
       "     {'height': 300,\n",
       "      'url': 'https://i.scdn.co/image/ab67616d00001e02449ab72ccb2a2211e1e54c65',\n",
       "      'width': 300},\n",
       "     {'height': 64,\n",
       "      'url': 'https://i.scdn.co/image/ab67616d00004851449ab72ccb2a2211e1e54c65',\n",
       "      'width': 64}],\n",
       "    'name': 'Hard On Yourself',\n",
       "    'release_date': '2020-08-14',\n",
       "    'release_date_precision': 'day',\n",
       "    'total_tracks': 1,\n",
       "    'type': 'album',\n",
       "    'uri': 'spotify:album:174SAjvfg1fkglW2S9vYkw'},\n",
       "   'artists': [{'external_urls': {'spotify': 'https://open.spotify.com/artist/6VuMaDnrHyPL1p4EHjYLi7'},\n",
       "     'href': 'https://api.spotify.com/v1/artists/6VuMaDnrHyPL1p4EHjYLi7',\n",
       "     'id': '6VuMaDnrHyPL1p4EHjYLi7',\n",
       "     'name': 'Charlie Puth',\n",
       "     'type': 'artist',\n",
       "     'uri': 'spotify:artist:6VuMaDnrHyPL1p4EHjYLi7'},\n",
       "    {'external_urls': {'spotify': 'https://open.spotify.com/artist/2cFrymmkijnjDg9SS92EPM'},\n",
       "     'href': 'https://api.spotify.com/v1/artists/2cFrymmkijnjDg9SS92EPM',\n",
       "     'id': '2cFrymmkijnjDg9SS92EPM',\n",
       "     'name': 'blackbear',\n",
       "     'type': 'artist',\n",
       "     'uri': 'spotify:artist:2cFrymmkijnjDg9SS92EPM'}],\n",
       "   'disc_number': 1,\n",
       "   'duration_ms': 160825,\n",
       "   'explicit': False,\n",
       "   'external_ids': {'isrc': 'USAT22005350'},\n",
       "   'external_urls': {'spotify': 'https://open.spotify.com/track/6o4LOloYJc8yu0CdvOvifU'},\n",
       "   'href': 'https://api.spotify.com/v1/tracks/6o4LOloYJc8yu0CdvOvifU',\n",
       "   'id': '6o4LOloYJc8yu0CdvOvifU',\n",
       "   'is_local': False,\n",
       "   'is_playable': True,\n",
       "   'name': 'Hard On Yourself',\n",
       "   'popularity': 64,\n",
       "   'preview_url': 'https://p.scdn.co/mp3-preview/01bbce0dfb47862aee56d97e62442ee87c4ae3b2?cid=3734d77d60f640d4821df0a3a6f330e1',\n",
       "   'track_number': 1,\n",
       "   'type': 'track',\n",
       "   'uri': 'spotify:track:6o4LOloYJc8yu0CdvOvifU'}],\n",
       " 'seeds': [{'initialPoolSize': 254,\n",
       "   'afterFilteringSize': 248,\n",
       "   'afterRelinkingSize': 254,\n",
       "   'id': '51Grh1RyUDcMBbpuyUIUHI',\n",
       "   'type': 'TRACK',\n",
       "   'href': 'https://api.spotify.com/v1/tracks/51Grh1RyUDcMBbpuyUIUHI'},\n",
       "  {'initialPoolSize': 300,\n",
       "   'afterFilteringSize': 201,\n",
       "   'afterRelinkingSize': 300,\n",
       "   'id': '0mBP9X2gPCuapvpZ7TGDk3',\n",
       "   'type': 'TRACK',\n",
       "   'href': 'https://api.spotify.com/v1/tracks/0mBP9X2gPCuapvpZ7TGDk3'},\n",
       "  {'initialPoolSize': 500,\n",
       "   'afterFilteringSize': 250,\n",
       "   'afterRelinkingSize': 251,\n",
       "   'id': '37Nqx7iavZpotJSDXZWbJ3',\n",
       "   'type': 'TRACK',\n",
       "   'href': 'https://api.spotify.com/v1/tracks/37Nqx7iavZpotJSDXZWbJ3'},\n",
       "  {'initialPoolSize': 500,\n",
       "   'afterFilteringSize': 250,\n",
       "   'afterRelinkingSize': 251,\n",
       "   'id': '4XvcHTUfIlWfyJTRG0aqlo',\n",
       "   'type': 'TRACK',\n",
       "   'href': 'https://api.spotify.com/v1/tracks/4XvcHTUfIlWfyJTRG0aqlo'},\n",
       "  {'initialPoolSize': 254,\n",
       "   'afterFilteringSize': 247,\n",
       "   'afterRelinkingSize': 254,\n",
       "   'id': '2JPLbjOn0wPCngEot2STUS',\n",
       "   'type': 'TRACK',\n",
       "   'href': 'https://api.spotify.com/v1/tracks/2JPLbjOn0wPCngEot2STUS'}]}"
      ]
     },
     "execution_count": 34,
     "metadata": {},
     "output_type": "execute_result"
    }
   ],
   "source": [
    "average_2021"
   ]
  },
  {
   "cell_type": "code",
   "execution_count": null,
   "metadata": {},
   "outputs": [],
   "source": []
  }
 ],
 "metadata": {
  "kernelspec": {
   "display_name": "base",
   "language": "python",
   "name": "python3"
  },
  "language_info": {
   "codemirror_mode": {
    "name": "ipython",
    "version": 3
   },
   "file_extension": ".py",
   "mimetype": "text/x-python",
   "name": "python",
   "nbconvert_exporter": "python",
   "pygments_lexer": "ipython3",
   "version": "3.9.13 (main, Aug 25 2022, 23:51:50) [MSC v.1916 64 bit (AMD64)]"
  },
  "orig_nbformat": 4,
  "vscode": {
   "interpreter": {
    "hash": "1b41b4c7cc3ca841c4d30f71a98170caa2e8e10c1e3668c41155b172942dc828"
   }
  }
 },
 "nbformat": 4,
 "nbformat_minor": 2
}
