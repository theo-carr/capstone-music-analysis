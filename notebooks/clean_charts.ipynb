{
 "cells": [
  {
   "cell_type": "markdown",
   "metadata": {},
   "source": [
    "# load in charts.csv and add in year column"
   ]
  },
  {
   "cell_type": "code",
   "execution_count": 1,
   "metadata": {},
   "outputs": [],
   "source": [
    "import pandas as pd"
   ]
  },
  {
   "cell_type": "code",
   "execution_count": 2,
   "metadata": {},
   "outputs": [],
   "source": [
    "charts = pd.read_csv('../spotify/data/charts.csv')"
   ]
  },
  {
   "cell_type": "code",
   "execution_count": 5,
   "metadata": {},
   "outputs": [],
   "source": [
    "charts.drop(columns = ['Unnamed: 0'], inplace=True)"
   ]
  },
  {
   "cell_type": "markdown",
   "metadata": {},
   "source": [
    "**add year column**"
   ]
  },
  {
   "cell_type": "code",
   "execution_count": null,
   "metadata": {},
   "outputs": [],
   "source": [
    "charts.head()"
   ]
  },
  {
   "cell_type": "code",
   "execution_count": null,
   "metadata": {},
   "outputs": [],
   "source": [
    "charts['release_year'] = pd.to_datetime(charts.date).dt.year"
   ]
  },
  {
   "cell_type": "code",
   "execution_count": null,
   "metadata": {},
   "outputs": [],
   "source": [
    "charts.head()"
   ]
  },
  {
   "cell_type": "code",
   "execution_count": null,
   "metadata": {},
   "outputs": [],
   "source": [
    "charts.tail()"
   ]
  },
  {
   "cell_type": "markdown",
   "metadata": {},
   "source": [
    "**overwrite original charts csv with new release column**"
   ]
  },
  {
   "cell_type": "code",
   "execution_count": 7,
   "metadata": {},
   "outputs": [],
   "source": [
    "charts.to_csv('../spotify/data/charts.csv', index=False)"
   ]
  },
  {
   "cell_type": "code",
   "execution_count": 6,
   "metadata": {},
   "outputs": [
    {
     "data": {
      "text/html": [
       "<div>\n",
       "<style scoped>\n",
       "    .dataframe tbody tr th:only-of-type {\n",
       "        vertical-align: middle;\n",
       "    }\n",
       "\n",
       "    .dataframe tbody tr th {\n",
       "        vertical-align: top;\n",
       "    }\n",
       "\n",
       "    .dataframe thead th {\n",
       "        text-align: right;\n",
       "    }\n",
       "</style>\n",
       "<table border=\"1\" class=\"dataframe\">\n",
       "  <thead>\n",
       "    <tr style=\"text-align: right;\">\n",
       "      <th></th>\n",
       "      <th>date</th>\n",
       "      <th>rank</th>\n",
       "      <th>song</th>\n",
       "      <th>artist</th>\n",
       "      <th>last-week</th>\n",
       "      <th>peak-rank</th>\n",
       "      <th>weeks-on-board</th>\n",
       "      <th>release_year</th>\n",
       "    </tr>\n",
       "  </thead>\n",
       "  <tbody>\n",
       "    <tr>\n",
       "      <th>0</th>\n",
       "      <td>2021-11-06</td>\n",
       "      <td>1</td>\n",
       "      <td>Easy On Me</td>\n",
       "      <td>Adele</td>\n",
       "      <td>1.0</td>\n",
       "      <td>1</td>\n",
       "      <td>3</td>\n",
       "      <td>2021</td>\n",
       "    </tr>\n",
       "    <tr>\n",
       "      <th>1</th>\n",
       "      <td>2021-11-06</td>\n",
       "      <td>2</td>\n",
       "      <td>Stay</td>\n",
       "      <td>The Kid LAROI &amp; Justin Bieber</td>\n",
       "      <td>2.0</td>\n",
       "      <td>1</td>\n",
       "      <td>16</td>\n",
       "      <td>2021</td>\n",
       "    </tr>\n",
       "    <tr>\n",
       "      <th>2</th>\n",
       "      <td>2021-11-06</td>\n",
       "      <td>3</td>\n",
       "      <td>Industry Baby</td>\n",
       "      <td>Lil Nas X &amp; Jack Harlow</td>\n",
       "      <td>3.0</td>\n",
       "      <td>1</td>\n",
       "      <td>14</td>\n",
       "      <td>2021</td>\n",
       "    </tr>\n",
       "    <tr>\n",
       "      <th>3</th>\n",
       "      <td>2021-11-06</td>\n",
       "      <td>4</td>\n",
       "      <td>Fancy Like</td>\n",
       "      <td>Walker Hayes</td>\n",
       "      <td>4.0</td>\n",
       "      <td>3</td>\n",
       "      <td>19</td>\n",
       "      <td>2021</td>\n",
       "    </tr>\n",
       "    <tr>\n",
       "      <th>4</th>\n",
       "      <td>2021-11-06</td>\n",
       "      <td>5</td>\n",
       "      <td>Bad Habits</td>\n",
       "      <td>Ed Sheeran</td>\n",
       "      <td>5.0</td>\n",
       "      <td>2</td>\n",
       "      <td>18</td>\n",
       "      <td>2021</td>\n",
       "    </tr>\n",
       "    <tr>\n",
       "      <th>...</th>\n",
       "      <td>...</td>\n",
       "      <td>...</td>\n",
       "      <td>...</td>\n",
       "      <td>...</td>\n",
       "      <td>...</td>\n",
       "      <td>...</td>\n",
       "      <td>...</td>\n",
       "      <td>...</td>\n",
       "    </tr>\n",
       "    <tr>\n",
       "      <th>330082</th>\n",
       "      <td>1958-08-04</td>\n",
       "      <td>96</td>\n",
       "      <td>Over And Over</td>\n",
       "      <td>Thurston Harris</td>\n",
       "      <td>NaN</td>\n",
       "      <td>96</td>\n",
       "      <td>1</td>\n",
       "      <td>1958</td>\n",
       "    </tr>\n",
       "    <tr>\n",
       "      <th>330083</th>\n",
       "      <td>1958-08-04</td>\n",
       "      <td>97</td>\n",
       "      <td>I Believe In You</td>\n",
       "      <td>Robert &amp; Johnny</td>\n",
       "      <td>NaN</td>\n",
       "      <td>97</td>\n",
       "      <td>1</td>\n",
       "      <td>1958</td>\n",
       "    </tr>\n",
       "    <tr>\n",
       "      <th>330084</th>\n",
       "      <td>1958-08-04</td>\n",
       "      <td>98</td>\n",
       "      <td>Little Serenade</td>\n",
       "      <td>The Ames Brothers</td>\n",
       "      <td>NaN</td>\n",
       "      <td>98</td>\n",
       "      <td>1</td>\n",
       "      <td>1958</td>\n",
       "    </tr>\n",
       "    <tr>\n",
       "      <th>330085</th>\n",
       "      <td>1958-08-04</td>\n",
       "      <td>99</td>\n",
       "      <td>I'll Get By (As Long As I Have You)</td>\n",
       "      <td>Billy Williams</td>\n",
       "      <td>NaN</td>\n",
       "      <td>99</td>\n",
       "      <td>1</td>\n",
       "      <td>1958</td>\n",
       "    </tr>\n",
       "    <tr>\n",
       "      <th>330086</th>\n",
       "      <td>1958-08-04</td>\n",
       "      <td>100</td>\n",
       "      <td>Judy</td>\n",
       "      <td>Frankie Vaughan</td>\n",
       "      <td>NaN</td>\n",
       "      <td>100</td>\n",
       "      <td>1</td>\n",
       "      <td>1958</td>\n",
       "    </tr>\n",
       "  </tbody>\n",
       "</table>\n",
       "<p>330087 rows × 8 columns</p>\n",
       "</div>"
      ],
      "text/plain": [
       "              date  rank                                 song  \\\n",
       "0       2021-11-06     1                           Easy On Me   \n",
       "1       2021-11-06     2                                 Stay   \n",
       "2       2021-11-06     3                        Industry Baby   \n",
       "3       2021-11-06     4                           Fancy Like   \n",
       "4       2021-11-06     5                           Bad Habits   \n",
       "...            ...   ...                                  ...   \n",
       "330082  1958-08-04    96                        Over And Over   \n",
       "330083  1958-08-04    97                     I Believe In You   \n",
       "330084  1958-08-04    98                      Little Serenade   \n",
       "330085  1958-08-04    99  I'll Get By (As Long As I Have You)   \n",
       "330086  1958-08-04   100                                 Judy   \n",
       "\n",
       "                               artist  last-week  peak-rank  weeks-on-board  \\\n",
       "0                               Adele        1.0          1               3   \n",
       "1       The Kid LAROI & Justin Bieber        2.0          1              16   \n",
       "2             Lil Nas X & Jack Harlow        3.0          1              14   \n",
       "3                        Walker Hayes        4.0          3              19   \n",
       "4                          Ed Sheeran        5.0          2              18   \n",
       "...                               ...        ...        ...             ...   \n",
       "330082                Thurston Harris        NaN         96               1   \n",
       "330083                Robert & Johnny        NaN         97               1   \n",
       "330084              The Ames Brothers        NaN         98               1   \n",
       "330085                 Billy Williams        NaN         99               1   \n",
       "330086                Frankie Vaughan        NaN        100               1   \n",
       "\n",
       "        release_year  \n",
       "0               2021  \n",
       "1               2021  \n",
       "2               2021  \n",
       "3               2021  \n",
       "4               2021  \n",
       "...              ...  \n",
       "330082          1958  \n",
       "330083          1958  \n",
       "330084          1958  \n",
       "330085          1958  \n",
       "330086          1958  \n",
       "\n",
       "[330087 rows x 8 columns]"
      ]
     },
     "execution_count": 6,
     "metadata": {},
     "output_type": "execute_result"
    }
   ],
   "source": [
    "charts"
   ]
  },
  {
   "cell_type": "code",
   "execution_count": null,
   "metadata": {},
   "outputs": [],
   "source": []
  }
 ],
 "metadata": {
  "kernelspec": {
   "display_name": "Python 3.9.13 ('base')",
   "language": "python",
   "name": "python3"
  },
  "language_info": {
   "codemirror_mode": {
    "name": "ipython",
    "version": 3
   },
   "file_extension": ".py",
   "mimetype": "text/x-python",
   "name": "python",
   "nbconvert_exporter": "python",
   "pygments_lexer": "ipython3",
   "version": "3.9.13"
  },
  "orig_nbformat": 4,
  "vscode": {
   "interpreter": {
    "hash": "1b41b4c7cc3ca841c4d30f71a98170caa2e8e10c1e3668c41155b172942dc828"
   }
  }
 },
 "nbformat": 4,
 "nbformat_minor": 2
}
