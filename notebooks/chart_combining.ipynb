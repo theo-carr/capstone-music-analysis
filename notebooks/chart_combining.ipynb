{
 "cells": [
  {
   "cell_type": "markdown",
   "metadata": {},
   "source": [
    "# ****DO NOT RUN THIS NOTEBOOK FROM TOP TO BOTTOM****"
   ]
  },
  {
   "cell_type": "markdown",
   "metadata": {},
   "source": [
    "# The purpose of this notebook is to provide a workspace to combine dataframes from specific years into a combined dataframe"
   ]
  },
  {
   "cell_type": "code",
   "execution_count": 1,
   "metadata": {},
   "outputs": [],
   "source": [
    "import pandas as pd"
   ]
  },
  {
   "cell_type": "code",
   "execution_count": null,
   "metadata": {},
   "outputs": [],
   "source": [
    "# load in all the datasets\n",
    "charts_2021 = pd.read_csv('../spotify/data/charts_2021.csv')\n",
    "charts_2019_2013 = pd.read_csv('../spotify/data/charts_2019-2013.csv')\n",
    "charts_2011_2007 = pd.read_csv('../spotify/data/charts_2011-2007.csv')\n",
    "charts_2005_2001 = pd.read_csv('../spotify/data/charts_2005-2001.csv')"
   ]
  },
  {
   "cell_type": "markdown",
   "metadata": {},
   "source": [
    "# Get rid of unnamed column so we can concat the dfs"
   ]
  },
  {
   "cell_type": "markdown",
   "metadata": {},
   "source": [
    "2021"
   ]
  },
  {
   "cell_type": "code",
   "execution_count": null,
   "metadata": {},
   "outputs": [],
   "source": [
    "charts_2021.head(1)"
   ]
  },
  {
   "cell_type": "code",
   "execution_count": null,
   "metadata": {},
   "outputs": [],
   "source": [
    "charts_2021 =charts_2021.drop(columns=['Unnamed: 0'])"
   ]
  },
  {
   "cell_type": "code",
   "execution_count": null,
   "metadata": {},
   "outputs": [],
   "source": [
    "charts_2021.head(1)"
   ]
  },
  {
   "cell_type": "markdown",
   "metadata": {},
   "source": [
    "2019-2013"
   ]
  },
  {
   "cell_type": "code",
   "execution_count": null,
   "metadata": {},
   "outputs": [],
   "source": [
    "charts_2019_2013.head(1)"
   ]
  },
  {
   "cell_type": "code",
   "execution_count": null,
   "metadata": {},
   "outputs": [],
   "source": [
    "charts_2019_2013=charts_2019_2013.drop(columns=['Unnamed: 0.2','Unnamed: 0.1','Unnamed: 0'])"
   ]
  },
  {
   "cell_type": "code",
   "execution_count": null,
   "metadata": {},
   "outputs": [],
   "source": [
    "charts_2019_2013.head(1)"
   ]
  },
  {
   "cell_type": "markdown",
   "metadata": {},
   "source": [
    "2011-2007"
   ]
  },
  {
   "cell_type": "code",
   "execution_count": null,
   "metadata": {},
   "outputs": [],
   "source": [
    "charts_2011_2007.head(1)"
   ]
  },
  {
   "cell_type": "code",
   "execution_count": null,
   "metadata": {},
   "outputs": [],
   "source": [
    "charts_2011_2007=charts_2011_2007.drop(columns=['Unnamed: 0.2','Unnamed: 0.1','Unnamed: 0'])"
   ]
  },
  {
   "cell_type": "code",
   "execution_count": null,
   "metadata": {},
   "outputs": [],
   "source": [
    "charts_2011_2007.head(1)"
   ]
  },
  {
   "cell_type": "markdown",
   "metadata": {},
   "source": [
    "2005-2001"
   ]
  },
  {
   "cell_type": "code",
   "execution_count": null,
   "metadata": {},
   "outputs": [],
   "source": [
    "charts_2005_2001.head(1)"
   ]
  },
  {
   "cell_type": "code",
   "execution_count": null,
   "metadata": {},
   "outputs": [],
   "source": [
    "charts_2005_2001=charts_2005_2001.drop(columns=['Unnamed: 0.2','Unnamed: 0.1','Unnamed: 0'])"
   ]
  },
  {
   "cell_type": "code",
   "execution_count": null,
   "metadata": {},
   "outputs": [],
   "source": [
    "charts_2005_2001.head(1)"
   ]
  },
  {
   "cell_type": "markdown",
   "metadata": {},
   "source": [
    "# Ready for concat"
   ]
  },
  {
   "cell_type": "code",
   "execution_count": null,
   "metadata": {},
   "outputs": [],
   "source": [
    "main_df = pd.concat(\n",
    "    [charts_2021,charts_2019_2013,charts_2011_2007,charts_2005_2001]\n",
    ")"
   ]
  },
  {
   "cell_type": "code",
   "execution_count": null,
   "metadata": {},
   "outputs": [],
   "source": [
    " # main_df.to_csv('../spotify/data/charts_2021_2001.csv',index=False)"
   ]
  },
  {
   "cell_type": "code",
   "execution_count": null,
   "metadata": {},
   "outputs": [],
   "source": []
  },
  {
   "cell_type": "markdown",
   "metadata": {},
   "source": [
    "# ADD IN THE 90S!"
   ]
  },
  {
   "cell_type": "code",
   "execution_count": null,
   "metadata": {},
   "outputs": [],
   "source": [
    "charts_1999_1992 = pd.read_csv('../data/charts_1999-1992.csv')"
   ]
  },
  {
   "cell_type": "code",
   "execution_count": null,
   "metadata": {},
   "outputs": [],
   "source": [
    "charts_1999_1992"
   ]
  },
  {
   "cell_type": "code",
   "execution_count": null,
   "metadata": {},
   "outputs": [],
   "source": [
    "#reload main dataframe\n",
    "main_df = pd.read_csv('../data/charts_2021_2001.csv')\n"
   ]
  },
  {
   "cell_type": "code",
   "execution_count": null,
   "metadata": {},
   "outputs": [],
   "source": [
    "main_df.head(1)"
   ]
  },
  {
   "cell_type": "code",
   "execution_count": null,
   "metadata": {},
   "outputs": [],
   "source": [
    "main_df.tail(1)"
   ]
  },
  {
   "cell_type": "code",
   "execution_count": null,
   "metadata": {},
   "outputs": [],
   "source": [
    "# rewrite main to include the years from the 90s\n",
    "main_df = pd.concat([main_df, charts_1999_1992])"
   ]
  },
  {
   "cell_type": "code",
   "execution_count": null,
   "metadata": {},
   "outputs": [],
   "source": [
    "main_df.reset_index(drop=True, inplace=True)"
   ]
  },
  {
   "cell_type": "code",
   "execution_count": null,
   "metadata": {},
   "outputs": [],
   "source": [
    "main_df"
   ]
  },
  {
   "cell_type": "code",
   "execution_count": null,
   "metadata": {},
   "outputs": [],
   "source": [
    "# looks good so we are going to save it back; remember to set index to false on the save;comment out when done\n",
    "\n",
    "#main_df.to_csv('../data/charts_2021_1992.csv', index=False)"
   ]
  },
  {
   "attachments": {},
   "cell_type": "markdown",
   "metadata": {},
   "source": [
    "# Bring in the rest"
   ]
  },
  {
   "cell_type": "code",
   "execution_count": 4,
   "metadata": {},
   "outputs": [],
   "source": [
    "charts_1960_1965 = pd.read_csv('../data/charts_1960-1965.csv')\n",
    "charts_2021_1992 = pd.read_csv('../data/charts_2021_1992.csv')\n"
   ]
  },
  {
   "cell_type": "code",
   "execution_count": 7,
   "metadata": {},
   "outputs": [],
   "source": [
    "charts_1966_1991 = pd.DataFrame()\n",
    "for year in range(1966, 1992):\n",
    "    curr_df = pd.read_csv(f'../data/charts_{year}.csv')\n",
    "    charts_1966_1991 = pd.concat([charts_1966_1991, curr_df])\n"
   ]
  },
  {
   "cell_type": "code",
   "execution_count": 9,
   "metadata": {},
   "outputs": [],
   "source": [
    "target_years = [1994,1996,1998,2000,2002,2004,2006,2008,2010,2012,2014,2016,2018,2020]\n",
    "charts_1994_2020_even = pd.DataFrame()\n",
    "\n",
    "for year in target_years:\n",
    "    curr_df = pd.read_csv(f'../data/charts_{year}.csv')\n",
    "    charts_1994_2020_even = pd.concat([charts_1994_2020_even, curr_df])\n",
    "    "
   ]
  },
  {
   "cell_type": "code",
   "execution_count": 10,
   "metadata": {},
   "outputs": [
    {
     "data": {
      "text/html": [
       "<div>\n",
       "<style scoped>\n",
       "    .dataframe tbody tr th:only-of-type {\n",
       "        vertical-align: middle;\n",
       "    }\n",
       "\n",
       "    .dataframe tbody tr th {\n",
       "        vertical-align: top;\n",
       "    }\n",
       "\n",
       "    .dataframe thead th {\n",
       "        text-align: right;\n",
       "    }\n",
       "</style>\n",
       "<table border=\"1\" class=\"dataframe\">\n",
       "  <thead>\n",
       "    <tr style=\"text-align: right;\">\n",
       "      <th></th>\n",
       "      <th>date</th>\n",
       "      <th>rank</th>\n",
       "      <th>song</th>\n",
       "      <th>artist</th>\n",
       "      <th>last-week</th>\n",
       "      <th>peak-rank</th>\n",
       "      <th>weeks-on-board</th>\n",
       "      <th>release_year</th>\n",
       "      <th>track_id</th>\n",
       "    </tr>\n",
       "  </thead>\n",
       "  <tbody>\n",
       "    <tr>\n",
       "      <th>0</th>\n",
       "      <td>1994-12-31</td>\n",
       "      <td>98</td>\n",
       "      <td>I See It Now</td>\n",
       "      <td>Tracy Lawrence</td>\n",
       "      <td>90.0</td>\n",
       "      <td>84</td>\n",
       "      <td>9</td>\n",
       "      <td>1994</td>\n",
       "      <td>4h1oxHwo7BD2Yjv4g6WQ42</td>\n",
       "    </tr>\n",
       "    <tr>\n",
       "      <th>1</th>\n",
       "      <td>1994-12-31</td>\n",
       "      <td>100</td>\n",
       "      <td>Back Up Off Me!</td>\n",
       "      <td>Doctor Dre &amp; Ed Lover</td>\n",
       "      <td>88.0</td>\n",
       "      <td>85</td>\n",
       "      <td>7</td>\n",
       "      <td>1994</td>\n",
       "      <td>3y2Acf7FS7AfGfJLk9Ukpe</td>\n",
       "    </tr>\n",
       "    <tr>\n",
       "      <th>2</th>\n",
       "      <td>1994-12-24</td>\n",
       "      <td>42</td>\n",
       "      <td>Come To My Window</td>\n",
       "      <td>Melissa Etheridge</td>\n",
       "      <td>42.0</td>\n",
       "      <td>25</td>\n",
       "      <td>44</td>\n",
       "      <td>1994</td>\n",
       "      <td>4LmlGaGTEbTGE5VngAbpA3</td>\n",
       "    </tr>\n",
       "    <tr>\n",
       "      <th>3</th>\n",
       "      <td>1994-12-24</td>\n",
       "      <td>60</td>\n",
       "      <td>Lucky One</td>\n",
       "      <td>Amy Grant</td>\n",
       "      <td>61.0</td>\n",
       "      <td>18</td>\n",
       "      <td>20</td>\n",
       "      <td>1994</td>\n",
       "      <td>4e5ayHsOLJNLTGfjau2mEw</td>\n",
       "    </tr>\n",
       "    <tr>\n",
       "      <th>4</th>\n",
       "      <td>1994-12-24</td>\n",
       "      <td>96</td>\n",
       "      <td>I'll Take Her</td>\n",
       "      <td>Ill Al Skratch Featuring Brian McKnight</td>\n",
       "      <td>84.0</td>\n",
       "      <td>62</td>\n",
       "      <td>14</td>\n",
       "      <td>1994</td>\n",
       "      <td>1KhfUoFg3JxohYPYO0xZcn</td>\n",
       "    </tr>\n",
       "    <tr>\n",
       "      <th>...</th>\n",
       "      <td>...</td>\n",
       "      <td>...</td>\n",
       "      <td>...</td>\n",
       "      <td>...</td>\n",
       "      <td>...</td>\n",
       "      <td>...</td>\n",
       "      <td>...</td>\n",
       "      <td>...</td>\n",
       "      <td>...</td>\n",
       "    </tr>\n",
       "    <tr>\n",
       "      <th>71</th>\n",
       "      <td>2020-11-28</td>\n",
       "      <td>89</td>\n",
       "      <td>24</td>\n",
       "      <td>Money Man Featuring Lil Baby</td>\n",
       "      <td>67.0</td>\n",
       "      <td>49</td>\n",
       "      <td>14</td>\n",
       "      <td>2020</td>\n",
       "      <td>6b8Be6ljOzmkOmFslEb23P</td>\n",
       "    </tr>\n",
       "    <tr>\n",
       "      <th>72</th>\n",
       "      <td>2020-11-28</td>\n",
       "      <td>91</td>\n",
       "      <td>Runnin</td>\n",
       "      <td>21 Savage &amp; Metro Boomin</td>\n",
       "      <td>85.0</td>\n",
       "      <td>9</td>\n",
       "      <td>7</td>\n",
       "      <td>2020</td>\n",
       "      <td>29d0nY7TzCoi22XBqDQkiP</td>\n",
       "    </tr>\n",
       "    <tr>\n",
       "      <th>73</th>\n",
       "      <td>2020-11-28</td>\n",
       "      <td>92</td>\n",
       "      <td>Relacion</td>\n",
       "      <td>Sech, Daddy Yankee &amp; J Balvin Featuring Rosali...</td>\n",
       "      <td>90.0</td>\n",
       "      <td>64</td>\n",
       "      <td>11</td>\n",
       "      <td>2020</td>\n",
       "      <td>35UUpTmrcFXNIVIN26ujXl</td>\n",
       "    </tr>\n",
       "    <tr>\n",
       "      <th>74</th>\n",
       "      <td>2020-11-28</td>\n",
       "      <td>95</td>\n",
       "      <td>La Toxica</td>\n",
       "      <td>Farruko</td>\n",
       "      <td>100.0</td>\n",
       "      <td>95</td>\n",
       "      <td>4</td>\n",
       "      <td>2020</td>\n",
       "      <td>24MhzcEo2Ud8eYFbJcps7y</td>\n",
       "    </tr>\n",
       "    <tr>\n",
       "      <th>75</th>\n",
       "      <td>2020-11-28</td>\n",
       "      <td>96</td>\n",
       "      <td>Tap In</td>\n",
       "      <td>Saweetie</td>\n",
       "      <td>86.0</td>\n",
       "      <td>20</td>\n",
       "      <td>19</td>\n",
       "      <td>2020</td>\n",
       "      <td>4Hpib09wXgD84w4uwTPnYD</td>\n",
       "    </tr>\n",
       "  </tbody>\n",
       "</table>\n",
       "<p>1064 rows × 9 columns</p>\n",
       "</div>"
      ],
      "text/plain": [
       "          date  rank               song  \\\n",
       "0   1994-12-31    98       I See It Now   \n",
       "1   1994-12-31   100    Back Up Off Me!   \n",
       "2   1994-12-24    42  Come To My Window   \n",
       "3   1994-12-24    60          Lucky One   \n",
       "4   1994-12-24    96      I'll Take Her   \n",
       "..         ...   ...                ...   \n",
       "71  2020-11-28    89                 24   \n",
       "72  2020-11-28    91             Runnin   \n",
       "73  2020-11-28    92           Relacion   \n",
       "74  2020-11-28    95          La Toxica   \n",
       "75  2020-11-28    96             Tap In   \n",
       "\n",
       "                                               artist  last-week  peak-rank  \\\n",
       "0                                      Tracy Lawrence       90.0         84   \n",
       "1                               Doctor Dre & Ed Lover       88.0         85   \n",
       "2                                   Melissa Etheridge       42.0         25   \n",
       "3                                           Amy Grant       61.0         18   \n",
       "4             Ill Al Skratch Featuring Brian McKnight       84.0         62   \n",
       "..                                                ...        ...        ...   \n",
       "71                       Money Man Featuring Lil Baby       67.0         49   \n",
       "72                           21 Savage & Metro Boomin       85.0          9   \n",
       "73  Sech, Daddy Yankee & J Balvin Featuring Rosali...       90.0         64   \n",
       "74                                            Farruko      100.0         95   \n",
       "75                                           Saweetie       86.0         20   \n",
       "\n",
       "    weeks-on-board  release_year                track_id  \n",
       "0                9          1994  4h1oxHwo7BD2Yjv4g6WQ42  \n",
       "1                7          1994  3y2Acf7FS7AfGfJLk9Ukpe  \n",
       "2               44          1994  4LmlGaGTEbTGE5VngAbpA3  \n",
       "3               20          1994  4e5ayHsOLJNLTGfjau2mEw  \n",
       "4               14          1994  1KhfUoFg3JxohYPYO0xZcn  \n",
       "..             ...           ...                     ...  \n",
       "71              14          2020  6b8Be6ljOzmkOmFslEb23P  \n",
       "72               7          2020  29d0nY7TzCoi22XBqDQkiP  \n",
       "73              11          2020  35UUpTmrcFXNIVIN26ujXl  \n",
       "74               4          2020  24MhzcEo2Ud8eYFbJcps7y  \n",
       "75              19          2020  4Hpib09wXgD84w4uwTPnYD  \n",
       "\n",
       "[1064 rows x 9 columns]"
      ]
     },
     "execution_count": 10,
     "metadata": {},
     "output_type": "execute_result"
    }
   ],
   "source": [
    "charts_1994_2020_even"
   ]
  },
  {
   "cell_type": "code",
   "execution_count": 11,
   "metadata": {},
   "outputs": [],
   "source": [
    "main_df = pd.concat([charts_1960_1965, charts_1966_1991, charts_2021_1992, charts_1994_2020_even])"
   ]
  },
  {
   "cell_type": "code",
   "execution_count": 13,
   "metadata": {},
   "outputs": [
    {
     "data": {
      "text/plain": [
       "2021    424\n",
       "2019    100\n",
       "2017    100\n",
       "2015    100\n",
       "2013    100\n",
       "       ... \n",
       "1993     56\n",
       "1997     56\n",
       "1999     56\n",
       "1961     56\n",
       "1960     56\n",
       "Name: release_year, Length: 62, dtype: int64"
      ]
     },
     "execution_count": 13,
     "metadata": {},
     "output_type": "execute_result"
    }
   ],
   "source": [
    "main_df.release_year.value_counts()"
   ]
  },
  {
   "cell_type": "code",
   "execution_count": 14,
   "metadata": {},
   "outputs": [],
   "source": [
    "main_df.to_csv('../data/all_charts.csv', index=False)"
   ]
  },
  {
   "cell_type": "code",
   "execution_count": null,
   "metadata": {},
   "outputs": [],
   "source": []
  }
 ],
 "metadata": {
  "kernelspec": {
   "display_name": "Python 3.9.13 ('base')",
   "language": "python",
   "name": "python3"
  },
  "language_info": {
   "codemirror_mode": {
    "name": "ipython",
    "version": 3
   },
   "file_extension": ".py",
   "mimetype": "text/x-python",
   "name": "python",
   "nbconvert_exporter": "python",
   "pygments_lexer": "ipython3",
   "version": "3.9.13"
  },
  "orig_nbformat": 4,
  "vscode": {
   "interpreter": {
    "hash": "1b41b4c7cc3ca841c4d30f71a98170caa2e8e10c1e3668c41155b172942dc828"
   }
  }
 },
 "nbformat": 4,
 "nbformat_minor": 2
}
