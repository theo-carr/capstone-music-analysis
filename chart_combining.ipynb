{
 "cells": [
  {
   "cell_type": "markdown",
   "metadata": {},
   "source": [
    "# The purpose of this notebook is to provide a workspace to combine dataframes from specific years into a combined dataframe"
   ]
  },
  {
   "cell_type": "code",
   "execution_count": 1,
   "metadata": {},
   "outputs": [],
   "source": [
    "import pandas"
   ]
  },
  {
   "cell_type": "code",
   "execution_count": 8,
   "metadata": {},
   "outputs": [],
   "source": [
    "# load in all the datasets\n",
    "charts_2021 = pd.read_csv('../spotify/data/charts_2021.csv')\n",
    "charts_2019_2013 = pd.read_csv('../spotify/data/charts_2019-2013.csv')\n",
    "charts_2011_2007 = pd.read_csv('../spotify/data/charts_2011-2007.csv')\n",
    "charts_2005_2001 = pd.read_csv('../spotify/data/charts_2005-2001.csv')"
   ]
  },
  {
   "cell_type": "markdown",
   "metadata": {},
   "source": [
    "# Get rid of unnamed column so we can concat the dfs"
   ]
  },
  {
   "cell_type": "markdown",
   "metadata": {},
   "source": [
    "2021"
   ]
  },
  {
   "cell_type": "code",
   "execution_count": 10,
   "metadata": {},
   "outputs": [
    {
     "data": {
      "text/html": [
       "<div>\n",
       "<style scoped>\n",
       "    .dataframe tbody tr th:only-of-type {\n",
       "        vertical-align: middle;\n",
       "    }\n",
       "\n",
       "    .dataframe tbody tr th {\n",
       "        vertical-align: top;\n",
       "    }\n",
       "\n",
       "    .dataframe thead th {\n",
       "        text-align: right;\n",
       "    }\n",
       "</style>\n",
       "<table border=\"1\" class=\"dataframe\">\n",
       "  <thead>\n",
       "    <tr style=\"text-align: right;\">\n",
       "      <th></th>\n",
       "      <th>Unnamed: 0</th>\n",
       "      <th>date</th>\n",
       "      <th>rank</th>\n",
       "      <th>song</th>\n",
       "      <th>artist</th>\n",
       "      <th>last-week</th>\n",
       "      <th>peak-rank</th>\n",
       "      <th>weeks-on-board</th>\n",
       "      <th>release_year</th>\n",
       "      <th>track_id</th>\n",
       "    </tr>\n",
       "  </thead>\n",
       "  <tbody>\n",
       "    <tr>\n",
       "      <th>0</th>\n",
       "      <td>0</td>\n",
       "      <td>2021-11-06</td>\n",
       "      <td>1</td>\n",
       "      <td>Easy On Me</td>\n",
       "      <td>Adele</td>\n",
       "      <td>1.0</td>\n",
       "      <td>1</td>\n",
       "      <td>3</td>\n",
       "      <td>2021</td>\n",
       "      <td>0gplL1WMoJ6iYaPgMCL0gX</td>\n",
       "    </tr>\n",
       "  </tbody>\n",
       "</table>\n",
       "</div>"
      ],
      "text/plain": [
       "   Unnamed: 0        date  rank        song artist  last-week  peak-rank  \\\n",
       "0           0  2021-11-06     1  Easy On Me  Adele        1.0          1   \n",
       "\n",
       "   weeks-on-board  release_year                track_id  \n",
       "0               3          2021  0gplL1WMoJ6iYaPgMCL0gX  "
      ]
     },
     "execution_count": 10,
     "metadata": {},
     "output_type": "execute_result"
    }
   ],
   "source": [
    "charts_2021.head(1)"
   ]
  },
  {
   "cell_type": "code",
   "execution_count": 12,
   "metadata": {},
   "outputs": [],
   "source": [
    "charts_2021 =charts_2021.drop(columns=['Unnamed: 0'])"
   ]
  },
  {
   "cell_type": "code",
   "execution_count": 13,
   "metadata": {},
   "outputs": [
    {
     "data": {
      "text/html": [
       "<div>\n",
       "<style scoped>\n",
       "    .dataframe tbody tr th:only-of-type {\n",
       "        vertical-align: middle;\n",
       "    }\n",
       "\n",
       "    .dataframe tbody tr th {\n",
       "        vertical-align: top;\n",
       "    }\n",
       "\n",
       "    .dataframe thead th {\n",
       "        text-align: right;\n",
       "    }\n",
       "</style>\n",
       "<table border=\"1\" class=\"dataframe\">\n",
       "  <thead>\n",
       "    <tr style=\"text-align: right;\">\n",
       "      <th></th>\n",
       "      <th>date</th>\n",
       "      <th>rank</th>\n",
       "      <th>song</th>\n",
       "      <th>artist</th>\n",
       "      <th>last-week</th>\n",
       "      <th>peak-rank</th>\n",
       "      <th>weeks-on-board</th>\n",
       "      <th>release_year</th>\n",
       "      <th>track_id</th>\n",
       "    </tr>\n",
       "  </thead>\n",
       "  <tbody>\n",
       "    <tr>\n",
       "      <th>0</th>\n",
       "      <td>2021-11-06</td>\n",
       "      <td>1</td>\n",
       "      <td>Easy On Me</td>\n",
       "      <td>Adele</td>\n",
       "      <td>1.0</td>\n",
       "      <td>1</td>\n",
       "      <td>3</td>\n",
       "      <td>2021</td>\n",
       "      <td>0gplL1WMoJ6iYaPgMCL0gX</td>\n",
       "    </tr>\n",
       "  </tbody>\n",
       "</table>\n",
       "</div>"
      ],
      "text/plain": [
       "         date  rank        song artist  last-week  peak-rank  weeks-on-board  \\\n",
       "0  2021-11-06     1  Easy On Me  Adele        1.0          1               3   \n",
       "\n",
       "   release_year                track_id  \n",
       "0          2021  0gplL1WMoJ6iYaPgMCL0gX  "
      ]
     },
     "execution_count": 13,
     "metadata": {},
     "output_type": "execute_result"
    }
   ],
   "source": [
    "charts_2021.head(1)"
   ]
  },
  {
   "cell_type": "markdown",
   "metadata": {},
   "source": [
    "2019-2013"
   ]
  },
  {
   "cell_type": "code",
   "execution_count": 14,
   "metadata": {},
   "outputs": [
    {
     "data": {
      "text/html": [
       "<div>\n",
       "<style scoped>\n",
       "    .dataframe tbody tr th:only-of-type {\n",
       "        vertical-align: middle;\n",
       "    }\n",
       "\n",
       "    .dataframe tbody tr th {\n",
       "        vertical-align: top;\n",
       "    }\n",
       "\n",
       "    .dataframe thead th {\n",
       "        text-align: right;\n",
       "    }\n",
       "</style>\n",
       "<table border=\"1\" class=\"dataframe\">\n",
       "  <thead>\n",
       "    <tr style=\"text-align: right;\">\n",
       "      <th></th>\n",
       "      <th>Unnamed: 0.2</th>\n",
       "      <th>Unnamed: 0.1</th>\n",
       "      <th>Unnamed: 0</th>\n",
       "      <th>date</th>\n",
       "      <th>rank</th>\n",
       "      <th>song</th>\n",
       "      <th>artist</th>\n",
       "      <th>last-week</th>\n",
       "      <th>peak-rank</th>\n",
       "      <th>weeks-on-board</th>\n",
       "      <th>release_year</th>\n",
       "      <th>track_id</th>\n",
       "    </tr>\n",
       "  </thead>\n",
       "  <tbody>\n",
       "    <tr>\n",
       "      <th>0</th>\n",
       "      <td>0</td>\n",
       "      <td>0</td>\n",
       "      <td>9700</td>\n",
       "      <td>2019-12-28</td>\n",
       "      <td>1</td>\n",
       "      <td>All I Want For Christmas Is You</td>\n",
       "      <td>Mariah Carey</td>\n",
       "      <td>1.0</td>\n",
       "      <td>1</td>\n",
       "      <td>36</td>\n",
       "      <td>2019</td>\n",
       "      <td>0bYg9bo50gSsH3LtXe2SQn</td>\n",
       "    </tr>\n",
       "  </tbody>\n",
       "</table>\n",
       "</div>"
      ],
      "text/plain": [
       "   Unnamed: 0.2  Unnamed: 0.1  Unnamed: 0        date  rank  \\\n",
       "0             0             0        9700  2019-12-28     1   \n",
       "\n",
       "                              song        artist  last-week  peak-rank  \\\n",
       "0  All I Want For Christmas Is You  Mariah Carey        1.0          1   \n",
       "\n",
       "   weeks-on-board  release_year                track_id  \n",
       "0              36          2019  0bYg9bo50gSsH3LtXe2SQn  "
      ]
     },
     "execution_count": 14,
     "metadata": {},
     "output_type": "execute_result"
    }
   ],
   "source": [
    "charts_2019_2013.head(1)"
   ]
  },
  {
   "cell_type": "code",
   "execution_count": 17,
   "metadata": {},
   "outputs": [],
   "source": [
    "charts_2019_2013=charts_2019_2013.drop(columns=['Unnamed: 0.2','Unnamed: 0.1','Unnamed: 0'])"
   ]
  },
  {
   "cell_type": "code",
   "execution_count": 18,
   "metadata": {},
   "outputs": [
    {
     "data": {
      "text/html": [
       "<div>\n",
       "<style scoped>\n",
       "    .dataframe tbody tr th:only-of-type {\n",
       "        vertical-align: middle;\n",
       "    }\n",
       "\n",
       "    .dataframe tbody tr th {\n",
       "        vertical-align: top;\n",
       "    }\n",
       "\n",
       "    .dataframe thead th {\n",
       "        text-align: right;\n",
       "    }\n",
       "</style>\n",
       "<table border=\"1\" class=\"dataframe\">\n",
       "  <thead>\n",
       "    <tr style=\"text-align: right;\">\n",
       "      <th></th>\n",
       "      <th>date</th>\n",
       "      <th>rank</th>\n",
       "      <th>song</th>\n",
       "      <th>artist</th>\n",
       "      <th>last-week</th>\n",
       "      <th>peak-rank</th>\n",
       "      <th>weeks-on-board</th>\n",
       "      <th>release_year</th>\n",
       "      <th>track_id</th>\n",
       "    </tr>\n",
       "  </thead>\n",
       "  <tbody>\n",
       "    <tr>\n",
       "      <th>0</th>\n",
       "      <td>2019-12-28</td>\n",
       "      <td>1</td>\n",
       "      <td>All I Want For Christmas Is You</td>\n",
       "      <td>Mariah Carey</td>\n",
       "      <td>1.0</td>\n",
       "      <td>1</td>\n",
       "      <td>36</td>\n",
       "      <td>2019</td>\n",
       "      <td>0bYg9bo50gSsH3LtXe2SQn</td>\n",
       "    </tr>\n",
       "  </tbody>\n",
       "</table>\n",
       "</div>"
      ],
      "text/plain": [
       "         date  rank                             song        artist  last-week  \\\n",
       "0  2019-12-28     1  All I Want For Christmas Is You  Mariah Carey        1.0   \n",
       "\n",
       "   peak-rank  weeks-on-board  release_year                track_id  \n",
       "0          1              36          2019  0bYg9bo50gSsH3LtXe2SQn  "
      ]
     },
     "execution_count": 18,
     "metadata": {},
     "output_type": "execute_result"
    }
   ],
   "source": [
    "charts_2019_2013.head(1)"
   ]
  },
  {
   "cell_type": "markdown",
   "metadata": {},
   "source": [
    "2011-2007"
   ]
  },
  {
   "cell_type": "code",
   "execution_count": 19,
   "metadata": {},
   "outputs": [
    {
     "data": {
      "text/html": [
       "<div>\n",
       "<style scoped>\n",
       "    .dataframe tbody tr th:only-of-type {\n",
       "        vertical-align: middle;\n",
       "    }\n",
       "\n",
       "    .dataframe tbody tr th {\n",
       "        vertical-align: top;\n",
       "    }\n",
       "\n",
       "    .dataframe thead th {\n",
       "        text-align: right;\n",
       "    }\n",
       "</style>\n",
       "<table border=\"1\" class=\"dataframe\">\n",
       "  <thead>\n",
       "    <tr style=\"text-align: right;\">\n",
       "      <th></th>\n",
       "      <th>Unnamed: 0.2</th>\n",
       "      <th>Unnamed: 0.1</th>\n",
       "      <th>Unnamed: 0</th>\n",
       "      <th>date</th>\n",
       "      <th>rank</th>\n",
       "      <th>song</th>\n",
       "      <th>artist</th>\n",
       "      <th>last-week</th>\n",
       "      <th>peak-rank</th>\n",
       "      <th>weeks-on-board</th>\n",
       "      <th>release_year</th>\n",
       "      <th>track_id</th>\n",
       "    </tr>\n",
       "  </thead>\n",
       "  <tbody>\n",
       "    <tr>\n",
       "      <th>0</th>\n",
       "      <td>0</td>\n",
       "      <td>0</td>\n",
       "      <td>51400</td>\n",
       "      <td>2011-12-31</td>\n",
       "      <td>1</td>\n",
       "      <td>We Found Love</td>\n",
       "      <td>Rihanna Featuring Calvin Harris</td>\n",
       "      <td>1.0</td>\n",
       "      <td>1</td>\n",
       "      <td>13</td>\n",
       "      <td>2011</td>\n",
       "      <td>6qn9YLKt13AGvpq9jfO8py</td>\n",
       "    </tr>\n",
       "  </tbody>\n",
       "</table>\n",
       "</div>"
      ],
      "text/plain": [
       "   Unnamed: 0.2  Unnamed: 0.1  Unnamed: 0        date  rank           song  \\\n",
       "0             0             0       51400  2011-12-31     1  We Found Love   \n",
       "\n",
       "                            artist  last-week  peak-rank  weeks-on-board  \\\n",
       "0  Rihanna Featuring Calvin Harris        1.0          1              13   \n",
       "\n",
       "   release_year                track_id  \n",
       "0          2011  6qn9YLKt13AGvpq9jfO8py  "
      ]
     },
     "execution_count": 19,
     "metadata": {},
     "output_type": "execute_result"
    }
   ],
   "source": [
    "charts_2011_2007.head(1)"
   ]
  },
  {
   "cell_type": "code",
   "execution_count": 21,
   "metadata": {},
   "outputs": [],
   "source": [
    "charts_2011_2007=charts_2011_2007.drop(columns=['Unnamed: 0.2','Unnamed: 0.1','Unnamed: 0'])"
   ]
  },
  {
   "cell_type": "code",
   "execution_count": 22,
   "metadata": {},
   "outputs": [
    {
     "data": {
      "text/html": [
       "<div>\n",
       "<style scoped>\n",
       "    .dataframe tbody tr th:only-of-type {\n",
       "        vertical-align: middle;\n",
       "    }\n",
       "\n",
       "    .dataframe tbody tr th {\n",
       "        vertical-align: top;\n",
       "    }\n",
       "\n",
       "    .dataframe thead th {\n",
       "        text-align: right;\n",
       "    }\n",
       "</style>\n",
       "<table border=\"1\" class=\"dataframe\">\n",
       "  <thead>\n",
       "    <tr style=\"text-align: right;\">\n",
       "      <th></th>\n",
       "      <th>date</th>\n",
       "      <th>rank</th>\n",
       "      <th>song</th>\n",
       "      <th>artist</th>\n",
       "      <th>last-week</th>\n",
       "      <th>peak-rank</th>\n",
       "      <th>weeks-on-board</th>\n",
       "      <th>release_year</th>\n",
       "      <th>track_id</th>\n",
       "    </tr>\n",
       "  </thead>\n",
       "  <tbody>\n",
       "    <tr>\n",
       "      <th>0</th>\n",
       "      <td>2011-12-31</td>\n",
       "      <td>1</td>\n",
       "      <td>We Found Love</td>\n",
       "      <td>Rihanna Featuring Calvin Harris</td>\n",
       "      <td>1.0</td>\n",
       "      <td>1</td>\n",
       "      <td>13</td>\n",
       "      <td>2011</td>\n",
       "      <td>6qn9YLKt13AGvpq9jfO8py</td>\n",
       "    </tr>\n",
       "  </tbody>\n",
       "</table>\n",
       "</div>"
      ],
      "text/plain": [
       "         date  rank           song                           artist  \\\n",
       "0  2011-12-31     1  We Found Love  Rihanna Featuring Calvin Harris   \n",
       "\n",
       "   last-week  peak-rank  weeks-on-board  release_year                track_id  \n",
       "0        1.0          1              13          2011  6qn9YLKt13AGvpq9jfO8py  "
      ]
     },
     "execution_count": 22,
     "metadata": {},
     "output_type": "execute_result"
    }
   ],
   "source": [
    "charts_2011_2007.head(1)"
   ]
  },
  {
   "cell_type": "markdown",
   "metadata": {},
   "source": [
    "2005-2001"
   ]
  },
  {
   "cell_type": "code",
   "execution_count": 23,
   "metadata": {},
   "outputs": [
    {
     "data": {
      "text/html": [
       "<div>\n",
       "<style scoped>\n",
       "    .dataframe tbody tr th:only-of-type {\n",
       "        vertical-align: middle;\n",
       "    }\n",
       "\n",
       "    .dataframe tbody tr th {\n",
       "        vertical-align: top;\n",
       "    }\n",
       "\n",
       "    .dataframe thead th {\n",
       "        text-align: right;\n",
       "    }\n",
       "</style>\n",
       "<table border=\"1\" class=\"dataframe\">\n",
       "  <thead>\n",
       "    <tr style=\"text-align: right;\">\n",
       "      <th></th>\n",
       "      <th>Unnamed: 0.2</th>\n",
       "      <th>Unnamed: 0.1</th>\n",
       "      <th>Unnamed: 0</th>\n",
       "      <th>date</th>\n",
       "      <th>rank</th>\n",
       "      <th>song</th>\n",
       "      <th>artist</th>\n",
       "      <th>last-week</th>\n",
       "      <th>peak-rank</th>\n",
       "      <th>weeks-on-board</th>\n",
       "      <th>release_year</th>\n",
       "      <th>track_id</th>\n",
       "    </tr>\n",
       "  </thead>\n",
       "  <tbody>\n",
       "    <tr>\n",
       "      <th>0</th>\n",
       "      <td>0</td>\n",
       "      <td>0</td>\n",
       "      <td>82700</td>\n",
       "      <td>2005-12-31</td>\n",
       "      <td>1</td>\n",
       "      <td>Don't Forget About Us</td>\n",
       "      <td>Mariah Carey</td>\n",
       "      <td>2.0</td>\n",
       "      <td>1</td>\n",
       "      <td>11</td>\n",
       "      <td>2005</td>\n",
       "      <td>07o54snAilKYHsW8bGFe9x</td>\n",
       "    </tr>\n",
       "  </tbody>\n",
       "</table>\n",
       "</div>"
      ],
      "text/plain": [
       "   Unnamed: 0.2  Unnamed: 0.1  Unnamed: 0        date  rank  \\\n",
       "0             0             0       82700  2005-12-31     1   \n",
       "\n",
       "                    song        artist  last-week  peak-rank  weeks-on-board  \\\n",
       "0  Don't Forget About Us  Mariah Carey        2.0          1              11   \n",
       "\n",
       "   release_year                track_id  \n",
       "0          2005  07o54snAilKYHsW8bGFe9x  "
      ]
     },
     "execution_count": 23,
     "metadata": {},
     "output_type": "execute_result"
    }
   ],
   "source": [
    "charts_2005_2001.head(1)"
   ]
  },
  {
   "cell_type": "code",
   "execution_count": 25,
   "metadata": {},
   "outputs": [],
   "source": [
    "charts_2005_2001=charts_2005_2001.drop(columns=['Unnamed: 0.2','Unnamed: 0.1','Unnamed: 0'])"
   ]
  },
  {
   "cell_type": "code",
   "execution_count": 26,
   "metadata": {},
   "outputs": [
    {
     "data": {
      "text/html": [
       "<div>\n",
       "<style scoped>\n",
       "    .dataframe tbody tr th:only-of-type {\n",
       "        vertical-align: middle;\n",
       "    }\n",
       "\n",
       "    .dataframe tbody tr th {\n",
       "        vertical-align: top;\n",
       "    }\n",
       "\n",
       "    .dataframe thead th {\n",
       "        text-align: right;\n",
       "    }\n",
       "</style>\n",
       "<table border=\"1\" class=\"dataframe\">\n",
       "  <thead>\n",
       "    <tr style=\"text-align: right;\">\n",
       "      <th></th>\n",
       "      <th>date</th>\n",
       "      <th>rank</th>\n",
       "      <th>song</th>\n",
       "      <th>artist</th>\n",
       "      <th>last-week</th>\n",
       "      <th>peak-rank</th>\n",
       "      <th>weeks-on-board</th>\n",
       "      <th>release_year</th>\n",
       "      <th>track_id</th>\n",
       "    </tr>\n",
       "  </thead>\n",
       "  <tbody>\n",
       "    <tr>\n",
       "      <th>0</th>\n",
       "      <td>2005-12-31</td>\n",
       "      <td>1</td>\n",
       "      <td>Don't Forget About Us</td>\n",
       "      <td>Mariah Carey</td>\n",
       "      <td>2.0</td>\n",
       "      <td>1</td>\n",
       "      <td>11</td>\n",
       "      <td>2005</td>\n",
       "      <td>07o54snAilKYHsW8bGFe9x</td>\n",
       "    </tr>\n",
       "  </tbody>\n",
       "</table>\n",
       "</div>"
      ],
      "text/plain": [
       "         date  rank                   song        artist  last-week  \\\n",
       "0  2005-12-31     1  Don't Forget About Us  Mariah Carey        2.0   \n",
       "\n",
       "   peak-rank  weeks-on-board  release_year                track_id  \n",
       "0          1              11          2005  07o54snAilKYHsW8bGFe9x  "
      ]
     },
     "execution_count": 26,
     "metadata": {},
     "output_type": "execute_result"
    }
   ],
   "source": [
    "charts_2005_2001.head(1)"
   ]
  },
  {
   "cell_type": "markdown",
   "metadata": {},
   "source": [
    "# Ready for concat"
   ]
  },
  {
   "cell_type": "code",
   "execution_count": 27,
   "metadata": {},
   "outputs": [],
   "source": [
    "main_df = pd.concat(\n",
    "    [charts_2021,charts_2019_2013,charts_2011_2007,charts_2005_2001]\n",
    ")"
   ]
  },
  {
   "cell_type": "code",
   "execution_count": 32,
   "metadata": {},
   "outputs": [],
   "source": [
    " # main_df.to_csv('../spotify/data/charts_2021_2001.csv',index=False)"
   ]
  },
  {
   "cell_type": "code",
   "execution_count": null,
   "metadata": {},
   "outputs": [],
   "source": []
  }
 ],
 "metadata": {
  "kernelspec": {
   "display_name": "Python 3.9.13 ('base')",
   "language": "python",
   "name": "python3"
  },
  "language_info": {
   "codemirror_mode": {
    "name": "ipython",
    "version": 3
   },
   "file_extension": ".py",
   "mimetype": "text/x-python",
   "name": "python",
   "nbconvert_exporter": "python",
   "pygments_lexer": "ipython3",
   "version": "3.9.13"
  },
  "orig_nbformat": 4,
  "vscode": {
   "interpreter": {
    "hash": "1b41b4c7cc3ca841c4d30f71a98170caa2e8e10c1e3668c41155b172942dc828"
   }
  }
 },
 "nbformat": 4,
 "nbformat_minor": 2
}
