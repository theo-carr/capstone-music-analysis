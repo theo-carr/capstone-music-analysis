{
 "cells": [
  {
   "cell_type": "code",
   "execution_count": 1,
   "metadata": {},
   "outputs": [],
   "source": [
    "import pandas as pd \n",
    "import requests\n",
    "import json"
   ]
  },
  {
   "cell_type": "markdown",
   "metadata": {},
   "source": [
    "# Request Tokens"
   ]
  },
  {
   "cell_type": "code",
   "execution_count": 2,
   "metadata": {},
   "outputs": [],
   "source": [
    "# Read in secret key from json file\n",
    "secret_key_file  = open(\"../spotify/secret/secret_key.json\")\n",
    "secret_key_json = json.load(secret_key_file)\n",
    "secret_key = secret_key_json.get(\"secret_key\")\n",
    "secret_key_file.close()\n",
    "\n",
    "#create the get_token function to ask spotify api for an access token\n",
    "def get_token():\n",
    "    url = \"https://accounts.spotify.com/api/token\"\n",
    "    headers = {\n",
    "        \"Authorization\": f\"Basic {secret_key}\",\n",
    "        \"Content-Type\" : \"application/x-www-form-urlencoded\"\n",
    "    }\n",
    "    data = {\n",
    "        \"grant_type\" : \"client_credentials\"\n",
    "    }\n",
    "    response = requests.post(url, data = data, headers = headers)\n",
    "    \n",
    "    return response.json()\n"
   ]
  },
  {
   "cell_type": "markdown",
   "metadata": {},
   "source": [
    "# test Get Available Genre Seeds"
   ]
  },
  {
   "cell_type": "markdown",
   "metadata": {},
   "source": [
    "**Sample Requests**\n",
    "curl --request GET \\\n",
    "  --url https://api.spotify.com/v1/recommendations/available-genre-seeds \\\n",
    "  --header 'Authorization: ' \\\n",
    "  --header 'Content-Type: application/json'Get Available Genre Seeds"
   ]
  },
  {
   "cell_type": "code",
   "execution_count": 3,
   "metadata": {},
   "outputs": [
    {
     "data": {
      "text/plain": [
       "{'access_token': 'BQDVu_-Sic9FniHAVwjn6E2bZ_1nQ5o0zKUUiSZRjdvDC012ZX5HKF0u7-mEtPO2IMQo91wK7mQOB7kKVWSaxVDxiXi0UYA_BRWe55iMPMfvvln5U80',\n",
       " 'token_type': 'Bearer',\n",
       " 'expires_in': 3600}"
      ]
     },
     "execution_count": 3,
     "metadata": {},
     "output_type": "execute_result"
    }
   ],
   "source": [
    "foo = get_token()\n",
    "foo"
   ]
  },
  {
   "cell_type": "code",
   "execution_count": 4,
   "metadata": {},
   "outputs": [],
   "source": [
    "def get_available_genre_seeds():\n",
    "    #define base url\n",
    "    url = \"https://api.spotify.com/v1/recommendations/available-genre-seeds\"\n",
    "\n",
    "    #get token to put in headers\n",
    "    access_token = get_token().get(\"access_token\")\n",
    "    \n",
    "    #define headers\n",
    "    headers = {\n",
    "        \"Authorization\" : f\"Bearer {access_token}\" ,\n",
    "        \"Content-Type\" : \"application/json\"\n",
    "    }\n",
    "\n",
    "    #ask spotify for data\n",
    "    response = requests.get(url, headers = headers)\n",
    "\n",
    "    #return data\n",
    "    return response.json()\n",
    "    \n"
   ]
  },
  {
   "cell_type": "markdown",
   "metadata": {},
   "source": [
    "### Create a genre saver function just in case we need to read in genres again"
   ]
  },
  {
   "cell_type": "code",
   "execution_count": 5,
   "metadata": {},
   "outputs": [],
   "source": [
    "def save_genres():\n",
    "    #get genre seeds from spotify\n",
    "    genre_seeds = get_available_genre_seeds().get(\"genres\")\n",
    "\n",
    "    #write seeds to file\n",
    "    with open(\"../spotify/data/genre_seeds.txt\", \"w\") as fp:\n",
    "        for item in genre_seeds:\n",
    "            fp.write(\"%s\\n\" % item)\n",
    "        print(\"Done\")\n",
    "    \n"
   ]
  },
  {
   "cell_type": "markdown",
   "metadata": {},
   "source": [
    "function to read in genre seed list each time the notebook is rerun,\n",
    "the genre seeds are static so there is no point in re-asking spotify for the data\n",
    "on each notebook run"
   ]
  },
  {
   "cell_type": "code",
   "execution_count": 6,
   "metadata": {},
   "outputs": [
    {
     "name": "stdout",
     "output_type": "stream",
     "text": [
      "Done\n"
     ]
    }
   ],
   "source": [
    "### Returns a list of genres that are are valid entries for recomendation endpoints ### \n",
    "\n",
    "def read_genres():\n",
    "    with open(\"../spotify/data/genre_seeds.txt\", \"r\") as fp:\n",
    "        genres = [line[:-1] for line in fp]\n",
    "    print(\"Done\")\n",
    "    \n",
    "    return genres \n",
    "genre_seeds = read_genres()"
   ]
  },
  {
   "cell_type": "markdown",
   "metadata": {},
   "source": [
    "# Next Section"
   ]
  },
  {
   "cell_type": "markdown",
   "metadata": {},
   "source": [
    "next steps:\n",
    "1. keep reading documentation to see what we can bring in and generate project ideas\n",
    "2. less important - investigate what we can acheive in the recomendation endpoint with genre seeds"
   ]
  },
  {
   "cell_type": "markdown",
   "metadata": {},
   "source": [
    "## Endpoint to investigate\n",
    "1. Ad targeting\n",
    "2. get new releases\n",
    "3. Audio stats for tracks\n",
    "4. pulling in my own listening data (users top music endpoint)"
   ]
  },
  {
   "cell_type": "markdown",
   "metadata": {},
   "source": [
    "# Plug in genre into recommendations to get songs"
   ]
  },
  {
   "cell_type": "markdown",
   "metadata": {},
   "source": [
    "**dummy query test**"
   ]
  },
  {
   "cell_type": "code",
   "execution_count": 51,
   "metadata": {},
   "outputs": [],
   "source": [
    "def dummy_recommendations(track_id = \"4nFAL2TKUOoAPQJ5DGGoTd\"):\n",
    "   # url = \"https://api.spotify.com/v1/recommendations?seed_artists=4NHQUGzhtTLFvgF5SZesLK&seed_genres=classical,country&seed_tracks=0c6xIDDpzE81m2q797ordA\"\n",
    "    \n",
    "    #url = \"https://api.spotify.com/v1/recommendations?seed_genres=alt-rock,alternative,folk,rock\"\n",
    "\n",
    "    url = f\"https://api.spotify.com/v1/recommendations?seed_tracks={track_id}\"\n",
    "\n",
    "    access_token = get_token().get('access_token')\n",
    "\n",
    "    headers = {\n",
    "        \"Content-Type\" : \"application/json\",\n",
    "        \"Authorization\" : f\"Bearer {access_token}\"\n",
    "    }\n",
    "\n",
    "    response = requests.get(url, headers = headers)\n",
    "\n",
    "    return response.json()\n"
   ]
  },
  {
   "cell_type": "markdown",
   "metadata": {},
   "source": [
    "Recommendations endpoint works, this endpoint function will forever be known as dummy recommendations\n",
    "you can input just genres,\n",
    "or a combination of genres, songs, and artists as seeds.\n",
    "there is also a limit filter min = 1 max = 100"
   ]
  },
  {
   "cell_type": "markdown",
   "metadata": {},
   "source": [
    "# Testing Search Endpoint"
   ]
  },
  {
   "cell_type": "markdown",
   "metadata": {},
   "source": [
    "- search endpoint can return new music with the tag:new filter; which will return music released in the past two weeks\n",
    "- basic searches such as album, artists, track, year, and genre\n",
    "- tag:new will return albumns released in the past two weeks\n",
    "- **tag hipster will return albums with the loweset 10% popularity**\n",
    "\n",
    "**Requires type in request; type=album track** just specifies what type of music form are we looking for\n",
    "- also takes a limit filter to say how many results we want 0-50 inclusive\n",
    "- can use offset to look deeper"
   ]
  },
  {
   "cell_type": "code",
   "execution_count": 8,
   "metadata": {},
   "outputs": [],
   "source": [
    "def search_endpoint(search_term = \"clay%20pigeons\", music_type = \"track,album\"):\n",
    "    #turn spaces into %20\n",
    "    if search_term.find(\" \") != -1:\n",
    "        search_term = search_term.replace(' ', '%20')\n",
    "        \n",
    "    url = f\"https://api.spotify.com/v1/search?q=track:{search_term}&type={music_type}\"\n",
    "\n",
    "    access_token = get_token().get('access_token')\n",
    "    \n",
    "    headers = {\n",
    "        \"Content-Type\" : \"application/json\",\n",
    "        \"Authorization\" : f\"Bearer {access_token}\"\n",
    "    }\n",
    "    \n",
    "    response = requests.get(url, headers=headers)\n",
    "\n",
    "    return response.json()"
   ]
  },
  {
   "cell_type": "code",
   "execution_count": 9,
   "metadata": {},
   "outputs": [],
   "source": [
    "test = search_endpoint(search_term = \"stick season\", music_type = \"track\")"
   ]
  },
  {
   "cell_type": "markdown",
   "metadata": {},
   "source": [
    "# Testing the new music endpoint, what is the direction of music today?\n",
    "- vs the direction of music in past ages perhaps.. could be a really cool project"
   ]
  },
  {
   "cell_type": "markdown",
   "metadata": {},
   "source": []
  },
  {
   "cell_type": "code",
   "execution_count": 10,
   "metadata": {},
   "outputs": [],
   "source": [
    "def get_new_releases(country = \"US\", limit = 20, offset = 0):\n",
    "    url = f\"https://api.spotify.com/v1/browse/new-releases?country={country}&limit={limit}&offset={offset}\"\n",
    "\n",
    "    access_token = get_token().get('access_token')\n",
    "\n",
    "    headers = {\n",
    "        'Content-Type' : 'application/json',\n",
    "        'Authorization' : f'Bearer {access_token}'\n",
    "    }\n",
    "\n",
    "    response = requests.get(url, headers=headers)\n",
    "\n",
    "    return response.json()\n",
    "\n"
   ]
  },
  {
   "cell_type": "code",
   "execution_count": 11,
   "metadata": {},
   "outputs": [],
   "source": [
    "new_releases = get_new_releases(limit = 5)"
   ]
  },
  {
   "cell_type": "code",
   "execution_count": 12,
   "metadata": {},
   "outputs": [
    {
     "data": {
      "text/plain": [
       "dict_keys(['albums'])"
      ]
     },
     "execution_count": 12,
     "metadata": {},
     "output_type": "execute_result"
    }
   ],
   "source": [
    "new_releases.keys()"
   ]
  },
  {
   "cell_type": "code",
   "execution_count": 13,
   "metadata": {},
   "outputs": [],
   "source": [
    "new_releases = new_releases.get('albums')"
   ]
  },
  {
   "cell_type": "code",
   "execution_count": 14,
   "metadata": {},
   "outputs": [
    {
     "data": {
      "text/plain": [
       "dict_keys(['href', 'items', 'limit', 'next', 'offset', 'previous', 'total'])"
      ]
     },
     "execution_count": 14,
     "metadata": {},
     "output_type": "execute_result"
    }
   ],
   "source": [
    "new_releases.keys()"
   ]
  },
  {
   "cell_type": "code",
   "execution_count": 15,
   "metadata": {},
   "outputs": [
    {
     "data": {
      "text/plain": [
       "5"
      ]
     },
     "execution_count": 15,
     "metadata": {},
     "output_type": "execute_result"
    }
   ],
   "source": [
    "len(new_releases.get('items'))"
   ]
  },
  {
   "cell_type": "code",
   "execution_count": 16,
   "metadata": {},
   "outputs": [],
   "source": [
    "new_releases = new_releases.get('items')"
   ]
  },
  {
   "cell_type": "code",
   "execution_count": 17,
   "metadata": {},
   "outputs": [],
   "source": [
    "sam_hunt_album = new_releases[0]"
   ]
  },
  {
   "cell_type": "code",
   "execution_count": 18,
   "metadata": {},
   "outputs": [
    {
     "data": {
      "text/plain": [
       "dict_keys(['album_type', 'artists', 'available_markets', 'external_urls', 'href', 'id', 'images', 'name', 'release_date', 'release_date_precision', 'total_tracks', 'type', 'uri'])"
      ]
     },
     "execution_count": 18,
     "metadata": {},
     "output_type": "execute_result"
    }
   ],
   "source": [
    "sam_hunt_album.keys()"
   ]
  },
  {
   "cell_type": "code",
   "execution_count": 19,
   "metadata": {},
   "outputs": [
    {
     "data": {
      "text/plain": [
       "'7txGsnDSqVMoRl6RQ9XyZP'"
      ]
     },
     "execution_count": 19,
     "metadata": {},
     "output_type": "execute_result"
    }
   ],
   "source": [
    "sam_hunt_album.get('id')"
   ]
  },
  {
   "cell_type": "markdown",
   "metadata": {},
   "source": [
    "# Set up Get Album to feed new releases too"
   ]
  },
  {
   "cell_type": "code",
   "execution_count": 20,
   "metadata": {},
   "outputs": [],
   "source": [
    "def get_album(id = '2T1qRB6zSSGdNgcTD3Dg8H', market = 'US'):\n",
    "    url = f\"https://api.spotify.com/v1/albums/{id}\"\n",
    "\n",
    "    access_token = get_token().get('access_token')\n",
    "\n",
    "    headers = {\n",
    "        'Content-Type' : 'application/json',\n",
    "        'Authorization' : f'Bearer {access_token}'\n",
    "    }\n",
    "\n",
    "    response = requests.get(url, headers=headers)\n",
    "\n",
    "    return response.json()"
   ]
  },
  {
   "cell_type": "code",
   "execution_count": 21,
   "metadata": {},
   "outputs": [],
   "source": [
    "sam_hunt_album_tracks = get_album()"
   ]
  },
  {
   "cell_type": "code",
   "execution_count": 22,
   "metadata": {},
   "outputs": [
    {
     "data": {
      "text/plain": [
       "{'album_type': 'single',\n",
       " 'artists': [{'external_urls': {'spotify': 'https://open.spotify.com/artist/2kucQ9jQwuD8jWdtR9Ef38'},\n",
       "   'href': 'https://api.spotify.com/v1/artists/2kucQ9jQwuD8jWdtR9Ef38',\n",
       "   'id': '2kucQ9jQwuD8jWdtR9Ef38',\n",
       "   'name': 'Sam Hunt',\n",
       "   'type': 'artist',\n",
       "   'uri': 'spotify:artist:2kucQ9jQwuD8jWdtR9Ef38'}],\n",
       " 'available_markets': ['AD',\n",
       "  'AE',\n",
       "  'AG',\n",
       "  'AL',\n",
       "  'AM',\n",
       "  'AO',\n",
       "  'AR',\n",
       "  'AT',\n",
       "  'AU',\n",
       "  'AZ',\n",
       "  'BA',\n",
       "  'BB',\n",
       "  'BD',\n",
       "  'BE',\n",
       "  'BF',\n",
       "  'BG',\n",
       "  'BH',\n",
       "  'BI',\n",
       "  'BJ',\n",
       "  'BN',\n",
       "  'BO',\n",
       "  'BR',\n",
       "  'BS',\n",
       "  'BT',\n",
       "  'BW',\n",
       "  'BZ',\n",
       "  'CA',\n",
       "  'CD',\n",
       "  'CG',\n",
       "  'CH',\n",
       "  'CI',\n",
       "  'CL',\n",
       "  'CM',\n",
       "  'CO',\n",
       "  'CR',\n",
       "  'CV',\n",
       "  'CW',\n",
       "  'CY',\n",
       "  'CZ',\n",
       "  'DE',\n",
       "  'DJ',\n",
       "  'DK',\n",
       "  'DM',\n",
       "  'DO',\n",
       "  'DZ',\n",
       "  'EC',\n",
       "  'EE',\n",
       "  'EG',\n",
       "  'ES',\n",
       "  'FI',\n",
       "  'FJ',\n",
       "  'FM',\n",
       "  'FR',\n",
       "  'GA',\n",
       "  'GB',\n",
       "  'GD',\n",
       "  'GE',\n",
       "  'GH',\n",
       "  'GM',\n",
       "  'GN',\n",
       "  'GQ',\n",
       "  'GR',\n",
       "  'GT',\n",
       "  'GW',\n",
       "  'GY',\n",
       "  'HK',\n",
       "  'HN',\n",
       "  'HR',\n",
       "  'HT',\n",
       "  'HU',\n",
       "  'ID',\n",
       "  'IE',\n",
       "  'IL',\n",
       "  'IN',\n",
       "  'IQ',\n",
       "  'IS',\n",
       "  'IT',\n",
       "  'JM',\n",
       "  'JO',\n",
       "  'JP',\n",
       "  'KE',\n",
       "  'KG',\n",
       "  'KH',\n",
       "  'KI',\n",
       "  'KM',\n",
       "  'KN',\n",
       "  'KR',\n",
       "  'KW',\n",
       "  'KZ',\n",
       "  'LA',\n",
       "  'LB',\n",
       "  'LC',\n",
       "  'LI',\n",
       "  'LK',\n",
       "  'LR',\n",
       "  'LS',\n",
       "  'LT',\n",
       "  'LU',\n",
       "  'LV',\n",
       "  'LY',\n",
       "  'MA',\n",
       "  'MC',\n",
       "  'MD',\n",
       "  'ME',\n",
       "  'MG',\n",
       "  'MH',\n",
       "  'MK',\n",
       "  'ML',\n",
       "  'MN',\n",
       "  'MO',\n",
       "  'MR',\n",
       "  'MT',\n",
       "  'MU',\n",
       "  'MV',\n",
       "  'MW',\n",
       "  'MX',\n",
       "  'MY',\n",
       "  'MZ',\n",
       "  'NA',\n",
       "  'NE',\n",
       "  'NG',\n",
       "  'NI',\n",
       "  'NL',\n",
       "  'NO',\n",
       "  'NP',\n",
       "  'NR',\n",
       "  'NZ',\n",
       "  'OM',\n",
       "  'PA',\n",
       "  'PE',\n",
       "  'PG',\n",
       "  'PH',\n",
       "  'PK',\n",
       "  'PL',\n",
       "  'PS',\n",
       "  'PT',\n",
       "  'PW',\n",
       "  'PY',\n",
       "  'QA',\n",
       "  'RO',\n",
       "  'RS',\n",
       "  'RW',\n",
       "  'SA',\n",
       "  'SB',\n",
       "  'SC',\n",
       "  'SE',\n",
       "  'SG',\n",
       "  'SI',\n",
       "  'SK',\n",
       "  'SL',\n",
       "  'SM',\n",
       "  'SN',\n",
       "  'SR',\n",
       "  'ST',\n",
       "  'SV',\n",
       "  'SZ',\n",
       "  'TD',\n",
       "  'TG',\n",
       "  'TH',\n",
       "  'TJ',\n",
       "  'TL',\n",
       "  'TN',\n",
       "  'TO',\n",
       "  'TR',\n",
       "  'TT',\n",
       "  'TV',\n",
       "  'TW',\n",
       "  'TZ',\n",
       "  'UA',\n",
       "  'UG',\n",
       "  'US',\n",
       "  'UY',\n",
       "  'UZ',\n",
       "  'VC',\n",
       "  'VE',\n",
       "  'VN',\n",
       "  'VU',\n",
       "  'WS',\n",
       "  'XK',\n",
       "  'ZA',\n",
       "  'ZM',\n",
       "  'ZW'],\n",
       " 'copyrights': [{'text': '© 2022 UMG Recordings, Inc.', 'type': 'C'},\n",
       "  {'text': 'An MCA Nashivlle Release; ℗ 2022 UMG Recordings, Inc.',\n",
       "   'type': 'P'}],\n",
       " 'external_ids': {'upc': '00602448921505'},\n",
       " 'external_urls': {'spotify': 'https://open.spotify.com/album/2T1qRB6zSSGdNgcTD3Dg8H'},\n",
       " 'genres': [],\n",
       " 'href': 'https://api.spotify.com/v1/albums/2T1qRB6zSSGdNgcTD3Dg8H',\n",
       " 'id': '2T1qRB6zSSGdNgcTD3Dg8H',\n",
       " 'images': [{'height': 640,\n",
       "   'url': 'https://i.scdn.co/image/ab67616d0000b27377fe30c4a9851862d71f5503',\n",
       "   'width': 640},\n",
       "  {'height': 300,\n",
       "   'url': 'https://i.scdn.co/image/ab67616d00001e0277fe30c4a9851862d71f5503',\n",
       "   'width': 300},\n",
       "  {'height': 64,\n",
       "   'url': 'https://i.scdn.co/image/ab67616d0000485177fe30c4a9851862d71f5503',\n",
       "   'width': 64}],\n",
       " 'label': 'MCA Nashville',\n",
       " 'name': 'Start Nowhere',\n",
       " 'popularity': 54,\n",
       " 'release_date': '2022-11-23',\n",
       " 'release_date_precision': 'day',\n",
       " 'total_tracks': 1,\n",
       " 'tracks': {'href': 'https://api.spotify.com/v1/albums/2T1qRB6zSSGdNgcTD3Dg8H/tracks?offset=0&limit=50',\n",
       "  'items': [{'artists': [{'external_urls': {'spotify': 'https://open.spotify.com/artist/2kucQ9jQwuD8jWdtR9Ef38'},\n",
       "      'href': 'https://api.spotify.com/v1/artists/2kucQ9jQwuD8jWdtR9Ef38',\n",
       "      'id': '2kucQ9jQwuD8jWdtR9Ef38',\n",
       "      'name': 'Sam Hunt',\n",
       "      'type': 'artist',\n",
       "      'uri': 'spotify:artist:2kucQ9jQwuD8jWdtR9Ef38'}],\n",
       "    'available_markets': ['AD',\n",
       "     'AE',\n",
       "     'AG',\n",
       "     'AL',\n",
       "     'AM',\n",
       "     'AO',\n",
       "     'AR',\n",
       "     'AT',\n",
       "     'AU',\n",
       "     'AZ',\n",
       "     'BA',\n",
       "     'BB',\n",
       "     'BD',\n",
       "     'BE',\n",
       "     'BF',\n",
       "     'BG',\n",
       "     'BH',\n",
       "     'BI',\n",
       "     'BJ',\n",
       "     'BN',\n",
       "     'BO',\n",
       "     'BR',\n",
       "     'BS',\n",
       "     'BT',\n",
       "     'BW',\n",
       "     'BZ',\n",
       "     'CA',\n",
       "     'CD',\n",
       "     'CG',\n",
       "     'CH',\n",
       "     'CI',\n",
       "     'CL',\n",
       "     'CM',\n",
       "     'CO',\n",
       "     'CR',\n",
       "     'CV',\n",
       "     'CW',\n",
       "     'CY',\n",
       "     'CZ',\n",
       "     'DE',\n",
       "     'DJ',\n",
       "     'DK',\n",
       "     'DM',\n",
       "     'DO',\n",
       "     'DZ',\n",
       "     'EC',\n",
       "     'EE',\n",
       "     'EG',\n",
       "     'ES',\n",
       "     'FI',\n",
       "     'FJ',\n",
       "     'FM',\n",
       "     'FR',\n",
       "     'GA',\n",
       "     'GB',\n",
       "     'GD',\n",
       "     'GE',\n",
       "     'GH',\n",
       "     'GM',\n",
       "     'GN',\n",
       "     'GQ',\n",
       "     'GR',\n",
       "     'GT',\n",
       "     'GW',\n",
       "     'GY',\n",
       "     'HK',\n",
       "     'HN',\n",
       "     'HR',\n",
       "     'HT',\n",
       "     'HU',\n",
       "     'ID',\n",
       "     'IE',\n",
       "     'IL',\n",
       "     'IN',\n",
       "     'IQ',\n",
       "     'IS',\n",
       "     'IT',\n",
       "     'JM',\n",
       "     'JO',\n",
       "     'JP',\n",
       "     'KE',\n",
       "     'KG',\n",
       "     'KH',\n",
       "     'KI',\n",
       "     'KM',\n",
       "     'KN',\n",
       "     'KR',\n",
       "     'KW',\n",
       "     'KZ',\n",
       "     'LA',\n",
       "     'LB',\n",
       "     'LC',\n",
       "     'LI',\n",
       "     'LK',\n",
       "     'LR',\n",
       "     'LS',\n",
       "     'LT',\n",
       "     'LU',\n",
       "     'LV',\n",
       "     'LY',\n",
       "     'MA',\n",
       "     'MC',\n",
       "     'MD',\n",
       "     'ME',\n",
       "     'MG',\n",
       "     'MH',\n",
       "     'MK',\n",
       "     'ML',\n",
       "     'MN',\n",
       "     'MO',\n",
       "     'MR',\n",
       "     'MT',\n",
       "     'MU',\n",
       "     'MV',\n",
       "     'MW',\n",
       "     'MX',\n",
       "     'MY',\n",
       "     'MZ',\n",
       "     'NA',\n",
       "     'NE',\n",
       "     'NG',\n",
       "     'NI',\n",
       "     'NL',\n",
       "     'NO',\n",
       "     'NP',\n",
       "     'NR',\n",
       "     'NZ',\n",
       "     'OM',\n",
       "     'PA',\n",
       "     'PE',\n",
       "     'PG',\n",
       "     'PH',\n",
       "     'PK',\n",
       "     'PL',\n",
       "     'PS',\n",
       "     'PT',\n",
       "     'PW',\n",
       "     'PY',\n",
       "     'QA',\n",
       "     'RO',\n",
       "     'RS',\n",
       "     'RW',\n",
       "     'SA',\n",
       "     'SB',\n",
       "     'SC',\n",
       "     'SE',\n",
       "     'SG',\n",
       "     'SI',\n",
       "     'SK',\n",
       "     'SL',\n",
       "     'SM',\n",
       "     'SN',\n",
       "     'SR',\n",
       "     'ST',\n",
       "     'SV',\n",
       "     'SZ',\n",
       "     'TD',\n",
       "     'TG',\n",
       "     'TH',\n",
       "     'TJ',\n",
       "     'TL',\n",
       "     'TN',\n",
       "     'TO',\n",
       "     'TR',\n",
       "     'TT',\n",
       "     'TV',\n",
       "     'TW',\n",
       "     'TZ',\n",
       "     'UA',\n",
       "     'UG',\n",
       "     'US',\n",
       "     'UY',\n",
       "     'UZ',\n",
       "     'VC',\n",
       "     'VE',\n",
       "     'VN',\n",
       "     'VU',\n",
       "     'WS',\n",
       "     'XK',\n",
       "     'ZA',\n",
       "     'ZM',\n",
       "     'ZW'],\n",
       "    'disc_number': 1,\n",
       "    'duration_ms': 193400,\n",
       "    'explicit': False,\n",
       "    'external_urls': {'spotify': 'https://open.spotify.com/track/33bMASZzuBL82YERsMyozx'},\n",
       "    'href': 'https://api.spotify.com/v1/tracks/33bMASZzuBL82YERsMyozx',\n",
       "    'id': '33bMASZzuBL82YERsMyozx',\n",
       "    'is_local': False,\n",
       "    'name': 'Start Nowhere',\n",
       "    'preview_url': None,\n",
       "    'track_number': 1,\n",
       "    'type': 'track',\n",
       "    'uri': 'spotify:track:33bMASZzuBL82YERsMyozx'}],\n",
       "  'limit': 50,\n",
       "  'next': None,\n",
       "  'offset': 0,\n",
       "  'previous': None,\n",
       "  'total': 1},\n",
       " 'type': 'album',\n",
       " 'uri': 'spotify:album:2T1qRB6zSSGdNgcTD3Dg8H'}"
      ]
     },
     "execution_count": 22,
     "metadata": {},
     "output_type": "execute_result"
    }
   ],
   "source": [
    "sam_hunt_album_tracks"
   ]
  },
  {
   "cell_type": "markdown",
   "metadata": {},
   "source": [
    "# Get Several Tracks Function"
   ]
  },
  {
   "cell_type": "code",
   "execution_count": 23,
   "metadata": {},
   "outputs": [
    {
     "ename": "IndentationError",
     "evalue": "expected an indented block (100467330.py, line 2)",
     "output_type": "error",
     "traceback": [
      "\u001b[1;36m  File \u001b[1;32m\"C:\\Users\\theoc\\AppData\\Local\\Temp\\ipykernel_19108\\100467330.py\"\u001b[1;36m, line \u001b[1;32m2\u001b[0m\n\u001b[1;33m    def get_several_tracks(ids):\u001b[0m\n\u001b[1;37m                                ^\u001b[0m\n\u001b[1;31mIndentationError\u001b[0m\u001b[1;31m:\u001b[0m expected an indented block\n"
     ]
    }
   ],
   "source": [
    "#going to pass in a list of ids and unpack them into a string with the ids seperated by a comma , ex. '7ouMYWpwJ422jRcDASZB7P,4VqPOruhp5EdPBeR92t6lQ'\n",
    "#def get_several_tracks(ids):"
   ]
  },
  {
   "cell_type": "markdown",
   "metadata": {},
   "source": [
    "# Find recomendations for butchy's song"
   ]
  },
  {
   "cell_type": "code",
   "execution_count": 54,
   "metadata": {},
   "outputs": [],
   "source": [
    "def get_recs(**kwargs):\n",
    "    if kwargs.get('mode') == \"search\":\n",
    "        search_response = search(search_term = kwargs.get('name'), music_type = 'track')\n",
    "        rec_id = search_response.get('tracks').get('items')[0].get('id')\n",
    "\n",
    "        recs = recommendations(track_id=rec_id)\n",
    "        return recs\n",
    "        \n"
   ]
  },
  {
   "cell_type": "code",
   "execution_count": 55,
   "metadata": {},
   "outputs": [],
   "source": [
    "#test = get_recs(name = \"Butchie's Tune\", mode='search')"
   ]
  },
  {
   "cell_type": "code",
   "execution_count": 57,
   "metadata": {},
   "outputs": [
    {
     "name": "stdout",
     "output_type": "stream",
     "text": [
      "This is the Spotify library file! To make it easier to interact with the spotify API and collect some good data.\n"
     ]
    }
   ],
   "source": [
    "import test\n",
    "print(test.display_message())"
   ]
  },
  {
   "cell_type": "code",
   "execution_count": null,
   "metadata": {},
   "outputs": [],
   "source": []
  }
 ],
 "metadata": {
  "kernelspec": {
   "display_name": "Python 3.9.13 ('base')",
   "language": "python",
   "name": "python3"
  },
  "language_info": {
   "codemirror_mode": {
    "name": "ipython",
    "version": 3
   },
   "file_extension": ".py",
   "mimetype": "text/x-python",
   "name": "python",
   "nbconvert_exporter": "python",
   "pygments_lexer": "ipython3",
   "version": "3.9.13"
  },
  "orig_nbformat": 4,
  "vscode": {
   "interpreter": {
    "hash": "1b41b4c7cc3ca841c4d30f71a98170caa2e8e10c1e3668c41155b172942dc828"
   }
  }
 },
 "nbformat": 4,
 "nbformat_minor": 2
}
