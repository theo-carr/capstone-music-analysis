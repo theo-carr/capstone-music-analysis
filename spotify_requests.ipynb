{
 "cells": [
  {
   "cell_type": "code",
   "execution_count": 1,
   "metadata": {},
   "outputs": [],
   "source": [
    "import pandas as pd \n",
    "import requests\n",
    "import json"
   ]
  },
  {
   "cell_type": "markdown",
   "metadata": {},
   "source": [
    "# Request Tokens"
   ]
  },
  {
   "cell_type": "code",
   "execution_count": 2,
   "metadata": {},
   "outputs": [],
   "source": [
    "# Read in secret key from json file\n",
    "secret_key_file  = open(\"../spotify/secret/secret_key.json\")\n",
    "secret_key_json = json.load(secret_key_file)\n",
    "secret_key = secret_key_json.get(\"secret_key\")\n",
    "secret_key_file.close()\n",
    "\n",
    "#create the get_token function to ask spotify api for an access token\n",
    "def get_token():\n",
    "    url = \"https://accounts.spotify.com/api/token\"\n",
    "    headers = {\n",
    "        \"Authorization\": f\"Basic {secret_key}\",\n",
    "        \"Content-Type\" : \"application/x-www-form-urlencoded\"\n",
    "    }\n",
    "    data = {\n",
    "        \"grant_type\" : \"client_credentials\"\n",
    "    }\n",
    "    response = requests.post(url, data = data, headers = headers)\n",
    "    \n",
    "    return response.json()\n"
   ]
  },
  {
   "cell_type": "markdown",
   "metadata": {},
   "source": [
    "# test Get Available Genre Seeds"
   ]
  },
  {
   "cell_type": "markdown",
   "metadata": {},
   "source": [
    "**Sample Requests**\n",
    "curl --request GET \\\n",
    "  --url https://api.spotify.com/v1/recommendations/available-genre-seeds \\\n",
    "  --header 'Authorization: ' \\\n",
    "  --header 'Content-Type: application/json'Get Available Genre Seeds"
   ]
  },
  {
   "cell_type": "code",
   "execution_count": 3,
   "metadata": {},
   "outputs": [
    {
     "data": {
      "text/plain": [
       "{'access_token': 'BQCUKQLK2fGvfv1ZRwOUB5KlyVkNqBX6wZcPh5xCHZNIUDBqkF7rAqhiIs84YzcNBrwyf12mBkT-pDUpb1NkY1Tzg4Uzn6nnOX9UY0ANPwojaW90s54',\n",
       " 'token_type': 'Bearer',\n",
       " 'expires_in': 3600}"
      ]
     },
     "execution_count": 3,
     "metadata": {},
     "output_type": "execute_result"
    }
   ],
   "source": [
    "foo = get_token()\n",
    "foo"
   ]
  },
  {
   "cell_type": "code",
   "execution_count": 4,
   "metadata": {},
   "outputs": [],
   "source": [
    "def get_available_genre_seeds():\n",
    "    #define base url\n",
    "    url = \"https://api.spotify.com/v1/recommendations/available-genre-seeds\"\n",
    "\n",
    "    #get token to put in headers\n",
    "    access_token = get_token().get(\"access_token\")\n",
    "    \n",
    "    #define headers\n",
    "    headers = {\n",
    "        \"Authorization\" : f\"Bearer {access_token}\" ,\n",
    "        \"Content-Type\" : \"application/json\"\n",
    "    }\n",
    "\n",
    "    #ask spotify for data\n",
    "    response = requests.get(url, headers = headers)\n",
    "\n",
    "    #return data\n",
    "    return response.json()\n",
    "    \n"
   ]
  },
  {
   "cell_type": "markdown",
   "metadata": {},
   "source": [
    "### Create a genre saver function just in case we need to read in genres again"
   ]
  },
  {
   "cell_type": "code",
   "execution_count": 5,
   "metadata": {},
   "outputs": [],
   "source": [
    "def save_genres():\n",
    "    #get genre seeds from spotify\n",
    "    genre_seeds = get_available_genre_seeds().get(\"genres\")\n",
    "\n",
    "    #write seeds to file\n",
    "    with open(\"../spotify/data/genre_seeds.txt\", \"w\") as fp:\n",
    "        for item in genre_seeds:\n",
    "            fp.write(\"%s\\n\" % item)\n",
    "        print(\"Done\")\n",
    "    \n"
   ]
  },
  {
   "cell_type": "markdown",
   "metadata": {},
   "source": [
    "function to read in genre seed list each time the notebook is rerun,\n",
    "the genre seeds are static so there is no point in re-asking spotify for the data\n",
    "on each notebook run"
   ]
  },
  {
   "cell_type": "code",
   "execution_count": 6,
   "metadata": {},
   "outputs": [
    {
     "name": "stdout",
     "output_type": "stream",
     "text": [
      "Done\n"
     ]
    }
   ],
   "source": [
    "### Returns a list of genres that are are valid entries for recomendation endpoints ### \n",
    "\n",
    "def read_genres():\n",
    "    with open(\"../spotify/data/genre_seeds.txt\", \"r\") as fp:\n",
    "        genres = [line[:-1] for line in fp]\n",
    "    print(\"Done\")\n",
    "    \n",
    "    return genres \n",
    "genre_seeds = read_genres()"
   ]
  },
  {
   "cell_type": "markdown",
   "metadata": {},
   "source": [
    "# Next Section"
   ]
  },
  {
   "cell_type": "markdown",
   "metadata": {},
   "source": [
    "next steps:\n",
    "1. keep reading documentation to see what we can bring in and generate project ideas\n",
    "2. less important - investigate what we can acheive in the recomendation endpoint with genre seeds"
   ]
  },
  {
   "cell_type": "markdown",
   "metadata": {},
   "source": [
    "## Endpoint to investigate\n",
    "1. Ad targeting\n",
    "2. get new releases\n",
    "3. Audio stats for tracks\n",
    "4. pulling in my own listening data (users top music endpoint)"
   ]
  },
  {
   "cell_type": "markdown",
   "metadata": {},
   "source": [
    "# Plug in genre into recommendations to get songs"
   ]
  },
  {
   "cell_type": "markdown",
   "metadata": {},
   "source": [
    "**dummy query test**"
   ]
  },
  {
   "cell_type": "code",
   "execution_count": 11,
   "metadata": {},
   "outputs": [],
   "source": [
    "def dummy_recommendations():\n",
    "   # url = \"https://api.spotify.com/v1/recommendations?seed_artists=4NHQUGzhtTLFvgF5SZesLK&seed_genres=classical,country&seed_tracks=0c6xIDDpzE81m2q797ordA\"\n",
    "    url = \"https://api.spotify.com/v1/recommendations?seed_genres=alt-rock,alternative,folk,rock\"\n",
    "\n",
    "    access_token = get_token().get('access_token')\n",
    "\n",
    "    headers = {\n",
    "        \"Content-Type\" : \"application/json\",\n",
    "        \"Authorization\" : f\"Bearer {access_token}\"\n",
    "    }\n",
    "\n",
    "    response = requests.get(url, headers = headers)\n",
    "\n",
    "    return response.json()\n"
   ]
  },
  {
   "cell_type": "markdown",
   "metadata": {},
   "source": [
    "Recommendations endpoint works, this endpoint function will forever be known as dummy recommendations\n",
    "you can input just genres,\n",
    "or a combination of genres, songs, and artists as seeds.\n",
    "there is also a limit filter min = 1 max = 100"
   ]
  },
  {
   "cell_type": "markdown",
   "metadata": {},
   "source": []
  }
 ],
 "metadata": {
  "kernelspec": {
   "display_name": "Python 3.9.13 ('base')",
   "language": "python",
   "name": "python3"
  },
  "language_info": {
   "codemirror_mode": {
    "name": "ipython",
    "version": 3
   },
   "file_extension": ".py",
   "mimetype": "text/x-python",
   "name": "python",
   "nbconvert_exporter": "python",
   "pygments_lexer": "ipython3",
   "version": "3.9.13"
  },
  "orig_nbformat": 4,
  "vscode": {
   "interpreter": {
    "hash": "1b41b4c7cc3ca841c4d30f71a98170caa2e8e10c1e3668c41155b172942dc828"
   }
  }
 },
 "nbformat": 4,
 "nbformat_minor": 2
}
